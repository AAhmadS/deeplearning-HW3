{
  "cells": [
    {
      "cell_type": "markdown",
      "metadata": {
        "id": "view-in-github",
        "colab_type": "text"
      },
      "source": [
        "<a href=\"https://colab.research.google.com/github/AAhmadS/deeplearning-HW3/blob/main/HW3_2.ipynb\" target=\"_parent\"><img src=\"https://colab.research.google.com/assets/colab-badge.svg\" alt=\"Open In Colab\"/></a>"
      ]
    },
    {
      "cell_type": "markdown",
      "metadata": {
        "id": "-h6SXZrp5EJ9"
      },
      "source": [
        "#Deep Learning HW3-2\n",
        "\n",
        "**Student name :** Amirahmad Shafiee\n",
        "\n",
        "**Student number :** 99104027"
      ]
    },
    {
      "cell_type": "code",
      "execution_count": 2,
      "metadata": {
        "colab": {
          "base_uri": "https://localhost:8080/"
        },
        "id": "uNyPCrbg5EKX",
        "outputId": "58684b3c-b8b5-4705-e144-da5e68edfc52"
      },
      "outputs": [
        {
          "output_type": "stream",
          "name": "stdout",
          "text": [
            "Mounted at /content/gdrive\n"
          ]
        }
      ],
      "source": [
        "from google.colab import drive\n",
        "drive.mount('/content/gdrive')"
      ]
    },
    {
      "cell_type": "code",
      "source": [
        "%cd /content/gdrive/MyDrive/DeepLearning3"
      ],
      "metadata": {
        "colab": {
          "base_uri": "https://localhost:8080/"
        },
        "id": "sHeMTMXX63pj",
        "outputId": "4ae3fb21-38ff-48d8-8076-969e277478e3"
      },
      "execution_count": 3,
      "outputs": [
        {
          "output_type": "stream",
          "name": "stdout",
          "text": [
            "/content/gdrive/.shortcut-targets-by-id/1TGJQP4p9Bq7FDjSBi1WgjxUkXn56DW9j/DeepLearning3\n"
          ]
        }
      ]
    },
    {
      "cell_type": "code",
      "execution_count": 4,
      "metadata": {
        "id": "ALHT8xbh5EKb"
      },
      "outputs": [],
      "source": [
        "import torch.nn as nn\n",
        "import numpy as np\n",
        "import pandas as pd\n",
        "import random\n",
        "import torch\n",
        "import matplotlib.pyplot as plt\n",
        "%matplotlib inline\n",
        "from sklearn.model_selection import train_test_split as tts\n",
        "import seaborn\n",
        "import torch\n",
        "from sklearn.preprocessing import StandardScaler\n",
        "import glob\n",
        "import matplotlib.image as mpimg\n",
        "from PIL import Image\n",
        "from sklearn.metrics import confusion_matrix\n",
        "from sklearn import metrics\n",
        "from sklearn.metrics import classification_report\n",
        "from sklearn.model_selection import learning_curve\n",
        "from sklearn.metrics import plot_confusion_matrix\n",
        "from sklearn.metrics import roc_auc_score , f1_score\n",
        "from sklearn.metrics import accuracy_score as acs \n",
        "from torch.utils.data import DataLoader\n",
        "from torchvision.models import resnet50, ResNet50_Weights,resnet18,ResNet18_Weights\n",
        "import torchvision\n",
        "import torchvision.transforms as transforms\n",
        "from torchvision.datasets import CIFAR10\n",
        "from itertools import product"
      ]
    },
    {
      "cell_type": "code",
      "execution_count": 5,
      "metadata": {
        "colab": {
          "base_uri": "https://localhost:8080/"
        },
        "id": "6FB9akb95EKe",
        "outputId": "6da53c70-7f98-4067-f709-3021760ece00"
      },
      "outputs": [
        {
          "output_type": "stream",
          "name": "stdout",
          "text": [
            "Using cuda for inference\n"
          ]
        }
      ],
      "source": [
        "device = torch.device(\"cuda\") if torch.cuda.is_available() else torch.device(\"cpu\")\n",
        "print(f'Using {device} for inference')"
      ]
    },
    {
      "cell_type": "markdown",
      "metadata": {
        "id": "3JNLD5Rc5EKo"
      },
      "source": [
        "#Section A :\n",
        "\n",
        "Loading data and preprocessing data"
      ]
    },
    {
      "cell_type": "code",
      "execution_count": 6,
      "metadata": {
        "colab": {
          "base_uri": "https://localhost:8080/"
        },
        "id": "_2l7Z5jz5EKp",
        "outputId": "4f81ca81-81e7-4332-92fe-8db365cb82f9"
      },
      "outputs": [
        {
          "output_type": "stream",
          "name": "stdout",
          "text": [
            "Files already downloaded and verified\n",
            "Files already downloaded and verified\n"
          ]
        }
      ],
      "source": [
        "data_dir = './data'\n",
        "transform = transforms.Compose([transforms.Resize((224,224))\n",
        "                                ,transforms.RandomHorizontalFlip()\n",
        "                                ,transforms.ToTensor()\n",
        "                                ])\n",
        "train_data = CIFAR10(root=data_dir, train=True, download=True, transform=transform)\n",
        "testset = CIFAR10(root=data_dir, train=False, download=True, transform=transform)\n",
        "\n",
        "train_dataloader = DataLoader(train_data, batch_size=64, shuffle=True, num_workers=2)\n",
        "test_dataloader = DataLoader(testset, batch_size=64, shuffle=False, num_workers=2)\n"
      ]
    },
    {
      "cell_type": "markdown",
      "metadata": {
        "id": "BzAFzYa95EKq"
      },
      "source": [
        "#Subsection :\n",
        "\n",
        "Defining important functions."
      ]
    },
    {
      "cell_type": "code",
      "execution_count": 7,
      "metadata": {
        "id": "-82zGnsv5EKr"
      },
      "outputs": [],
      "source": [
        "def onehot(Y,num):\n",
        "    out = torch.zeros((Y.size()[0],num))\n",
        "    for i,index in enumerate(Y):\n",
        "        out[i,index.item()] = 1\n",
        "    return out \n",
        "\n",
        "    \n",
        "def train_loop_cnn(train_dataloader, model, loss_fn, optimizer):\n",
        "    count = 0\n",
        "    total_loss = 0\n",
        "    acc = 0\n",
        "    size = 0\n",
        "    for (x,y) in train_dataloader:\n",
        "        x = x.type(torch.float).to(device)\n",
        "        y = onehot(y.type(torch.int).reshape(-1,1),10).to(device)\n",
        "        size += y.size()[0]\n",
        "        # Compute prediction and loss\n",
        "        pred = model(x)\n",
        "        preds = torch.argmax(pred,dim=1,keepdim=True)\n",
        "        main_y = torch.argmax(y,dim=1,keepdim=True)\n",
        "        acc += (preds == main_y).type(torch.int).sum().item()\n",
        "        loss = loss_fn(pred,y)\n",
        "        total_loss += loss \n",
        "        count += 1\n",
        "        # Backpropagation\n",
        "        optimizer.zero_grad()\n",
        "        loss.backward()\n",
        "        optimizer.step()\n",
        "    return total_loss.item()/count , acc/size\n",
        "    \n",
        "\n",
        "\n",
        "def test_loop_cnn(test_dataloader, model, loss_fn):\n",
        "    correct=0\n",
        "    loss = 0\n",
        "    data_size = 0\n",
        "    with torch.no_grad():\n",
        "      for (x,y) in test_dataloader:\n",
        "        x = x.type(torch.float).to(device)\n",
        "        y = y.type(torch.int).reshape(-1,1).to(device)\n",
        "        data_size += y.size()[0]\n",
        "        \n",
        "        pred = model(x)\n",
        "        preds = torch.argmax(pred,dim=1,keepdim=True)\n",
        "\n",
        "        correct += (preds == y).type(torch.int).sum().item()\n",
        "\n",
        "        loss += loss_fn(pred,onehot(y,10).to(device))\n",
        "        \n",
        "    return correct/data_size,loss.item()/(data_size/128)\n",
        "  \n",
        "def test_pred_cnn(test_dataloader,model):\n",
        "    pred = torch.empty((0,1)).to(device)\n",
        "    Y = torch.empty((0,1)).to(device)\n",
        "    with torch.no_grad():\n",
        "      for (x,y) in test_dataloader :\n",
        "        x = x.type(torch.float).to(device)\n",
        "        y = y.type(torch.int).reshape(-1,1).to(device)\n",
        "        Y = torch.cat((Y,y))\n",
        "        predd = model(x)\n",
        "        preds = torch.argmax(predd,dim=1,keepdim=True)\n",
        "        pred = torch.cat((pred,preds))\n",
        "    return pred,Y"
      ]
    },
    {
      "cell_type": "markdown",
      "source": [
        "#Section A :\n",
        "Training the model. Which is ResNet50, but only the last layer is trained."
      ],
      "metadata": {
        "id": "OK48Pye3-Wja"
      }
    },
    {
      "cell_type": "code",
      "source": [
        "weights = ResNet50_Weights.DEFAULT\n",
        "model = resnet50(weights=ResNet50_Weights.IMAGENET1K_V2)\n",
        "for param in model.parameters():\n",
        "      param.requires_grad = False\n",
        "\n",
        "model.fc = nn.Sequential(\n",
        "    nn.Linear(2048,10)\n",
        ")\n",
        "\n",
        "model = model.to(device)\n",
        "\n",
        "loss_fn = nn.CrossEntropyLoss().to(device)\n",
        "\n",
        "params = []\n",
        "for name,param in model.named_parameters():\n",
        "    if param.requires_grad == True:\n",
        "        params.append(param)\n",
        "        print(f\"parameter to learn : {name}\")\n",
        "\n",
        "optimizer = torch.optim.Adam(params)\n"
      ],
      "metadata": {
        "colab": {
          "base_uri": "https://localhost:8080/"
        },
        "id": "b80BbE3j7Dwx",
        "outputId": "51f6b82c-cab2-4a6b-e31e-f10f528e2d08"
      },
      "execution_count": null,
      "outputs": [
        {
          "output_type": "stream",
          "name": "stdout",
          "text": [
            "parameter to learn : fc.0.weight\n",
            "parameter to learn : fc.0.bias\n"
          ]
        }
      ]
    },
    {
      "cell_type": "code",
      "execution_count": null,
      "metadata": {
        "colab": {
          "base_uri": "https://localhost:8080/"
        },
        "id": "odQOwK065EK3",
        "outputId": "a2e1a29a-b905-454c-a34e-b10080b8c588"
      },
      "outputs": [
        {
          "output_type": "stream",
          "name": "stdout",
          "text": [
            "loss of epoch 3 equals : 0.5328212650230778\n",
            "Accuracy of epoch 3 equals : 0.82008\n",
            "Accuracy of epoch 3 for validation set equals : 0.8114\n",
            "loss of epoch 6 equals : 0.4862812949568414\n",
            "Accuracy of epoch 6 equals : 0.8334\n",
            "Accuracy of epoch 6 for validation set equals : 0.8095\n",
            "loss of epoch 9 equals : 0.47244247085298113\n",
            "Accuracy of epoch 9 equals : 0.83842\n",
            "Accuracy of epoch 9 for validation set equals : 0.812\n",
            "loss of epoch 12 equals : 0.4570354256788483\n",
            "Accuracy of epoch 12 equals : 0.84122\n",
            "Accuracy of epoch 12 for validation set equals : 0.8121\n",
            "loss of epoch 15 equals : 0.4509045925286725\n",
            "Accuracy of epoch 15 equals : 0.84256\n",
            "Accuracy of epoch 15 for validation set equals : 0.8183\n",
            "loss of epoch 18 equals : 0.4414340748506434\n",
            "Accuracy of epoch 18 equals : 0.84704\n",
            "Accuracy of epoch 18 for validation set equals : 0.8137\n",
            "Done!\n"
          ]
        }
      ],
      "source": [
        "train_loss = []\n",
        "train_acc = []\n",
        "test_acc = []\n",
        "\n",
        "epochs = 20\n",
        "for t in range(epochs):\n",
        "    error, acc = train_loop_cnn(train_dataloader, model, loss_fn, optimizer)\n",
        "    train_loss.append(error)\n",
        "    train_acc.append(acc)\n",
        "\n",
        "    t_acc , t_loss = test_loop_cnn(test_dataloader,model,loss_fn)\n",
        "    test_acc.append(t_acc)\n",
        "\n",
        "    if (t%3 == 2):\n",
        "      print(f\"loss of epoch {t+1} equals : {train_loss[t]}\")\n",
        "      print(f\"Accuracy of epoch {t+1} equals : {train_acc[t]}\")\n",
        "      print(f\"Accuracy of epoch {t+1} for validation set equals : {test_acc[t]}\")\n",
        "    \n",
        "print(\"Done!\")"
      ]
    },
    {
      "cell_type": "code",
      "source": [
        "plt.title(\"Loss per epoch\")\n",
        "plt.xlabel(\"epoch\")\n",
        "plt.ylabel(\"loss\")\n",
        "plt.scatter(np.arange(start=0,stop=epochs),train_loss,s=1,c='blue')"
      ],
      "metadata": {
        "colab": {
          "base_uri": "https://localhost:8080/",
          "height": 312
        },
        "id": "wXbMm3xN-G1i",
        "outputId": "b316b72e-f778-4695-cb9f-8fa8f30ffcf4"
      },
      "execution_count": null,
      "outputs": [
        {
          "output_type": "execute_result",
          "data": {
            "text/plain": [
              "<matplotlib.collections.PathCollection at 0x7f38c9155ac0>"
            ]
          },
          "metadata": {},
          "execution_count": 25
        },
        {
          "output_type": "display_data",
          "data": {
            "text/plain": [
              "<Figure size 432x288 with 1 Axes>"
            ],
            "image/png": "[encoded data removed]"
          },
          "metadata": {
            "needs_background": "light"
          }
        }
      ]
    },
    {
      "cell_type": "code",
      "source": [
        "plt.title(\"Accuracy per epoch\")\n",
        "plt.xlabel(\"epoch\")\n",
        "plt.ylabel(\"accuracy\")\n",
        "plt.plot(np.arange(start=0,stop=epochs),train_acc,c='blue')\n",
        "plt.plot(np.arange(start=0,stop=epochs),test_acc,c='red')\n",
        "plt.legend()"
      ],
      "metadata": {
        "colab": {
          "base_uri": "https://localhost:8080/",
          "height": 330
        },
        "id": "u4NcrgzI-37V",
        "outputId": "55e34d37-d297-4aa3-be00-20d810fc6aae"
      },
      "execution_count": null,
      "outputs": [
        {
          "output_type": "stream",
          "name": "stderr",
          "text": [
            "WARNING:matplotlib.legend:No handles with labels found to put in legend.\n"
          ]
        },
        {
          "output_type": "execute_result",
          "data": {
            "text/plain": [
              "<matplotlib.legend.Legend at 0x7f38c9137250>"
            ]
          },
          "metadata": {},
          "execution_count": 26
        },
        {
          "output_type": "display_data",
          "data": {
            "text/plain": [
              "<Figure size 432x288 with 1 Axes>"
            ],
            "image/png": "[encoded data removed]"
          },
          "metadata": {
            "needs_background": "light"
          }
        }
      ]
    },
    {
      "cell_type": "code",
      "source": [
        "pred,y = test_pred_cnn(test_dataloader,model)"
      ],
      "metadata": {
        "colab": {
          "base_uri": "https://localhost:8080/"
        },
        "id": "aJsxPWKS_iH6",
        "outputId": "3a90020a-058e-44e1-f532-317e8d3dd9fc"
      },
      "execution_count": null,
      "outputs": [
        {
          "output_type": "stream",
          "name": "stderr",
          "text": [
            "/usr/local/lib/python3.8/dist-packages/torch/utils/data/dataloader.py:554: UserWarning: This DataLoader will create 4 worker processes in total. Our suggested max number of worker in current system is 2, which is smaller than what this DataLoader is going to create. Please be aware that excessive worker creation might get DataLoader running slow or even freeze, lower the worker number to avoid potential slowness/freeze if necessary.\n",
            "  warnings.warn(_create_warning_msg(\n"
          ]
        }
      ]
    },
    {
      "cell_type": "code",
      "source": [
        "acc,loss_t = test_loop_cnn(test_dataloader,model,loss_fn) \n",
        "print(f\"the best model's loss on the test dataset is being : {loss_t}\")"
      ],
      "metadata": {
        "colab": {
          "base_uri": "https://localhost:8080/"
        },
        "id": "jQZoqoBm_j8n",
        "outputId": "56840f29-b15f-4917-f14a-29e75ee37f76"
      },
      "execution_count": null,
      "outputs": [
        {
          "output_type": "stream",
          "name": "stdout",
          "text": [
            "the best model's loss on the test dataset is being : 1.0963126953125\n"
          ]
        }
      ]
    },
    {
      "cell_type": "code",
      "source": [
        "confusion_matrix = metrics.confusion_matrix(y.to(\"cpu\"),pred.to(\"cpu\"))\n",
        "cm_display = metrics.ConfusionMatrixDisplay(confusion_matrix = confusion_matrix)\n",
        "cm_display.plot()\n",
        "plt.show()"
      ],
      "metadata": {
        "colab": {
          "base_uri": "https://localhost:8080/",
          "height": 279
        },
        "id": "XnJhg40K_lUn",
        "outputId": "333befdb-12ec-406f-aaa0-abf1c67c5907"
      },
      "execution_count": null,
      "outputs": [
        {
          "output_type": "display_data",
          "data": {
            "text/plain": [
              "<Figure size 432x288 with 2 Axes>"
            ],
            "image/png": "[encoded data removed]"
          },
          "metadata": {
            "needs_background": "light"
          }
        }
      ]
    },
    {
      "cell_type": "code",
      "source": [
        "print(classification_report(y.to(\"cpu\"),pred.to(\"cpu\")))"
      ],
      "metadata": {
        "colab": {
          "base_uri": "https://localhost:8080/"
        },
        "id": "7a-8wotM_m0K",
        "outputId": "175b9ef5-a64b-48f8-cd12-78f7500eabf0"
      },
      "execution_count": null,
      "outputs": [
        {
          "output_type": "stream",
          "name": "stdout",
          "text": [
            "              precision    recall  f1-score   support\n",
            "\n",
            "         0.0       0.85      0.78      0.82      1000\n",
            "         1.0       0.86      0.87      0.86      1000\n",
            "         2.0       0.77      0.79      0.78      1000\n",
            "         3.0       0.72      0.67      0.69      1000\n",
            "         4.0       0.77      0.78      0.78      1000\n",
            "         5.0       0.74      0.83      0.78      1000\n",
            "         6.0       0.84      0.85      0.85      1000\n",
            "         7.0       0.85      0.80      0.82      1000\n",
            "         8.0       0.82      0.89      0.85      1000\n",
            "         9.0       0.88      0.84      0.86      1000\n",
            "\n",
            "    accuracy                           0.81     10000\n",
            "   macro avg       0.81      0.81      0.81     10000\n",
            "weighted avg       0.81      0.81      0.81     10000\n",
            "\n"
          ]
        }
      ]
    },
    {
      "cell_type": "code",
      "source": [
        "torch.save(model, 'resnet_sectionA.pth')"
      ],
      "metadata": {
        "id": "G0sJJu37ERIs"
      },
      "execution_count": null,
      "outputs": []
    },
    {
      "cell_type": "code",
      "source": [
        "model = torch.load('resnet_sectionA.pth')"
      ],
      "metadata": {
        "id": "LNZsTx_LT2_3"
      },
      "execution_count": 8,
      "outputs": []
    },
    {
      "cell_type": "markdown",
      "source": [
        "#Section B:"
      ],
      "metadata": {
        "id": "q6JlFgHFEPZ_"
      }
    },
    {
      "cell_type": "code",
      "source": [
        "def train_loop_teacher(train_dataloader, model, teacher, loss_fn, optimizer,alpha,taw):\n",
        "    count = 0\n",
        "    total_loss = 0\n",
        "    acc = 0\n",
        "    size = 0\n",
        "    for (x,y) in train_dataloader:\n",
        "        x = x.type(torch.float).to(device)\n",
        "        y = onehot(y.type(torch.int).reshape(-1,1),10).to(device)\n",
        "        y_teacher = teacher(x)/taw\n",
        "        size += y.size()[0]\n",
        "        # Compute prediction and loss\n",
        "        pred = model(x)\n",
        "        preds = torch.argmax(pred,dim=1,keepdim=True)\n",
        "        main_y = torch.argmax(y,dim=1,keepdim=True)\n",
        "        acc += (preds == main_y).type(torch.int).sum().item()\n",
        "        \n",
        "        loss_1 = loss_fn(nn.Softmax(dim=1)(pred),y)\n",
        "        loss_2 = loss_fn(nn.Softmax(dim=1)(pred/taw),nn.Softmax(dim=1)(y_teacher))\n",
        "        loss = (1-alpha) * loss_1 +(alpha * taw**2) * loss_2\n",
        "        total_loss += loss \n",
        "\n",
        "        count += 1\n",
        "        # Backpropagation\n",
        "        optimizer.zero_grad()\n",
        "        loss.backward()\n",
        "        optimizer.step()\n",
        "    return total_loss.item()/count , acc/size"
      ],
      "metadata": {
        "id": "1Sz8E3IWGGZZ"
      },
      "execution_count": 9,
      "outputs": []
    },
    {
      "cell_type": "code",
      "source": [
        "teacher = model\n",
        "teacher.eval()"
      ],
      "metadata": {
        "colab": {
          "base_uri": "https://localhost:8080/"
        },
        "id": "RmQDTNUyc095",
        "outputId": "3df82b4d-c50d-4cde-d2e7-20876be45104"
      },
      "execution_count": 10,
      "outputs": [
        {
          "output_type": "execute_result",
          "data": {
            "text/plain": [
              "ResNet(\n",
              "  (conv1): Conv2d(3, 64, kernel_size=(7, 7), stride=(2, 2), padding=(3, 3), bias=False)\n",
              "  (bn1): BatchNorm2d(64, eps=1e-05, momentum=0.1, affine=True, track_running_stats=True)\n",
              "  (relu): ReLU(inplace=True)\n",
              "  (maxpool): MaxPool2d(kernel_size=3, stride=2, padding=1, dilation=1, ceil_mode=False)\n",
              "  (layer1): Sequential(\n",
              "    (0): Bottleneck(\n",
              "      (conv1): Conv2d(64, 64, kernel_size=(1, 1), stride=(1, 1), bias=False)\n",
              "      (bn1): BatchNorm2d(64, eps=1e-05, momentum=0.1, affine=True, track_running_stats=True)\n",
              "      (conv2): Conv2d(64, 64, kernel_size=(3, 3), stride=(1, 1), padding=(1, 1), bias=False)\n",
              "      (bn2): BatchNorm2d(64, eps=1e-05, momentum=0.1, affine=True, track_running_stats=True)\n",
              "      (conv3): Conv2d(64, 256, kernel_size=(1, 1), stride=(1, 1), bias=False)\n",
              "      (bn3): BatchNorm2d(256, eps=1e-05, momentum=0.1, affine=True, track_running_stats=True)\n",
              "      (relu): ReLU(inplace=True)\n",
              "      (downsample): Sequential(\n",
              "        (0): Conv2d(64, 256, kernel_size=(1, 1), stride=(1, 1), bias=False)\n",
              "        (1): BatchNorm2d(256, eps=1e-05, momentum=0.1, affine=True, track_running_stats=True)\n",
              "      )\n",
              "    )\n",
              "    (1): Bottleneck(\n",
              "      (conv1): Conv2d(256, 64, kernel_size=(1, 1), stride=(1, 1), bias=False)\n",
              "      (bn1): BatchNorm2d(64, eps=1e-05, momentum=0.1, affine=True, track_running_stats=True)\n",
              "      (conv2): Conv2d(64, 64, kernel_size=(3, 3), stride=(1, 1), padding=(1, 1), bias=False)\n",
              "      (bn2): BatchNorm2d(64, eps=1e-05, momentum=0.1, affine=True, track_running_stats=True)\n",
              "      (conv3): Conv2d(64, 256, kernel_size=(1, 1), stride=(1, 1), bias=False)\n",
              "      (bn3): BatchNorm2d(256, eps=1e-05, momentum=0.1, affine=True, track_running_stats=True)\n",
              "      (relu): ReLU(inplace=True)\n",
              "    )\n",
              "    (2): Bottleneck(\n",
              "      (conv1): Conv2d(256, 64, kernel_size=(1, 1), stride=(1, 1), bias=False)\n",
              "      (bn1): BatchNorm2d(64, eps=1e-05, momentum=0.1, affine=True, track_running_stats=True)\n",
              "      (conv2): Conv2d(64, 64, kernel_size=(3, 3), stride=(1, 1), padding=(1, 1), bias=False)\n",
              "      (bn2): BatchNorm2d(64, eps=1e-05, momentum=0.1, affine=True, track_running_stats=True)\n",
              "      (conv3): Conv2d(64, 256, kernel_size=(1, 1), stride=(1, 1), bias=False)\n",
              "      (bn3): BatchNorm2d(256, eps=1e-05, momentum=0.1, affine=True, track_running_stats=True)\n",
              "      (relu): ReLU(inplace=True)\n",
              "    )\n",
              "  )\n",
              "  (layer2): Sequential(\n",
              "    (0): Bottleneck(\n",
              "      (conv1): Conv2d(256, 128, kernel_size=(1, 1), stride=(1, 1), bias=False)\n",
              "      (bn1): BatchNorm2d(128, eps=1e-05, momentum=0.1, affine=True, track_running_stats=True)\n",
              "      (conv2): Conv2d(128, 128, kernel_size=(3, 3), stride=(2, 2), padding=(1, 1), bias=False)\n",
              "      (bn2): BatchNorm2d(128, eps=1e-05, momentum=0.1, affine=True, track_running_stats=True)\n",
              "      (conv3): Conv2d(128, 512, kernel_size=(1, 1), stride=(1, 1), bias=False)\n",
              "      (bn3): BatchNorm2d(512, eps=1e-05, momentum=0.1, affine=True, track_running_stats=True)\n",
              "      (relu): ReLU(inplace=True)\n",
              "      (downsample): Sequential(\n",
              "        (0): Conv2d(256, 512, kernel_size=(1, 1), stride=(2, 2), bias=False)\n",
              "        (1): BatchNorm2d(512, eps=1e-05, momentum=0.1, affine=True, track_running_stats=True)\n",
              "      )\n",
              "    )\n",
              "    (1): Bottleneck(\n",
              "      (conv1): Conv2d(512, 128, kernel_size=(1, 1), stride=(1, 1), bias=False)\n",
              "      (bn1): BatchNorm2d(128, eps=1e-05, momentum=0.1, affine=True, track_running_stats=True)\n",
              "      (conv2): Conv2d(128, 128, kernel_size=(3, 3), stride=(1, 1), padding=(1, 1), bias=False)\n",
              "      (bn2): BatchNorm2d(128, eps=1e-05, momentum=0.1, affine=True, track_running_stats=True)\n",
              "      (conv3): Conv2d(128, 512, kernel_size=(1, 1), stride=(1, 1), bias=False)\n",
              "      (bn3): BatchNorm2d(512, eps=1e-05, momentum=0.1, affine=True, track_running_stats=True)\n",
              "      (relu): ReLU(inplace=True)\n",
              "    )\n",
              "    (2): Bottleneck(\n",
              "      (conv1): Conv2d(512, 128, kernel_size=(1, 1), stride=(1, 1), bias=False)\n",
              "      (bn1): BatchNorm2d(128, eps=1e-05, momentum=0.1, affine=True, track_running_stats=True)\n",
              "      (conv2): Conv2d(128, 128, kernel_size=(3, 3), stride=(1, 1), padding=(1, 1), bias=False)\n",
              "      (bn2): BatchNorm2d(128, eps=1e-05, momentum=0.1, affine=True, track_running_stats=True)\n",
              "      (conv3): Conv2d(128, 512, kernel_size=(1, 1), stride=(1, 1), bias=False)\n",
              "      (bn3): BatchNorm2d(512, eps=1e-05, momentum=0.1, affine=True, track_running_stats=True)\n",
              "      (relu): ReLU(inplace=True)\n",
              "    )\n",
              "    (3): Bottleneck(\n",
              "      (conv1): Conv2d(512, 128, kernel_size=(1, 1), stride=(1, 1), bias=False)\n",
              "      (bn1): BatchNorm2d(128, eps=1e-05, momentum=0.1, affine=True, track_running_stats=True)\n",
              "      (conv2): Conv2d(128, 128, kernel_size=(3, 3), stride=(1, 1), padding=(1, 1), bias=False)\n",
              "      (bn2): BatchNorm2d(128, eps=1e-05, momentum=0.1, affine=True, track_running_stats=True)\n",
              "      (conv3): Conv2d(128, 512, kernel_size=(1, 1), stride=(1, 1), bias=False)\n",
              "      (bn3): BatchNorm2d(512, eps=1e-05, momentum=0.1, affine=True, track_running_stats=True)\n",
              "      (relu): ReLU(inplace=True)\n",
              "    )\n",
              "  )\n",
              "  (layer3): Sequential(\n",
              "    (0): Bottleneck(\n",
              "      (conv1): Conv2d(512, 256, kernel_size=(1, 1), stride=(1, 1), bias=False)\n",
              "      (bn1): BatchNorm2d(256, eps=1e-05, momentum=0.1, affine=True, track_running_stats=True)\n",
              "      (conv2): Conv2d(256, 256, kernel_size=(3, 3), stride=(2, 2), padding=(1, 1), bias=False)\n",
              "      (bn2): BatchNorm2d(256, eps=1e-05, momentum=0.1, affine=True, track_running_stats=True)\n",
              "      (conv3): Conv2d(256, 1024, kernel_size=(1, 1), stride=(1, 1), bias=False)\n",
              "      (bn3): BatchNorm2d(1024, eps=1e-05, momentum=0.1, affine=True, track_running_stats=True)\n",
              "      (relu): ReLU(inplace=True)\n",
              "      (downsample): Sequential(\n",
              "        (0): Conv2d(512, 1024, kernel_size=(1, 1), stride=(2, 2), bias=False)\n",
              "        (1): BatchNorm2d(1024, eps=1e-05, momentum=0.1, affine=True, track_running_stats=True)\n",
              "      )\n",
              "    )\n",
              "    (1): Bottleneck(\n",
              "      (conv1): Conv2d(1024, 256, kernel_size=(1, 1), stride=(1, 1), bias=False)\n",
              "      (bn1): BatchNorm2d(256, eps=1e-05, momentum=0.1, affine=True, track_running_stats=True)\n",
              "      (conv2): Conv2d(256, 256, kernel_size=(3, 3), stride=(1, 1), padding=(1, 1), bias=False)\n",
              "      (bn2): BatchNorm2d(256, eps=1e-05, momentum=0.1, affine=True, track_running_stats=True)\n",
              "      (conv3): Conv2d(256, 1024, kernel_size=(1, 1), stride=(1, 1), bias=False)\n",
              "      (bn3): BatchNorm2d(1024, eps=1e-05, momentum=0.1, affine=True, track_running_stats=True)\n",
              "      (relu): ReLU(inplace=True)\n",
              "    )\n",
              "    (2): Bottleneck(\n",
              "      (conv1): Conv2d(1024, 256, kernel_size=(1, 1), stride=(1, 1), bias=False)\n",
              "      (bn1): BatchNorm2d(256, eps=1e-05, momentum=0.1, affine=True, track_running_stats=True)\n",
              "      (conv2): Conv2d(256, 256, kernel_size=(3, 3), stride=(1, 1), padding=(1, 1), bias=False)\n",
              "      (bn2): BatchNorm2d(256, eps=1e-05, momentum=0.1, affine=True, track_running_stats=True)\n",
              "      (conv3): Conv2d(256, 1024, kernel_size=(1, 1), stride=(1, 1), bias=False)\n",
              "      (bn3): BatchNorm2d(1024, eps=1e-05, momentum=0.1, affine=True, track_running_stats=True)\n",
              "      (relu): ReLU(inplace=True)\n",
              "    )\n",
              "    (3): Bottleneck(\n",
              "      (conv1): Conv2d(1024, 256, kernel_size=(1, 1), stride=(1, 1), bias=False)\n",
              "      (bn1): BatchNorm2d(256, eps=1e-05, momentum=0.1, affine=True, track_running_stats=True)\n",
              "      (conv2): Conv2d(256, 256, kernel_size=(3, 3), stride=(1, 1), padding=(1, 1), bias=False)\n",
              "      (bn2): BatchNorm2d(256, eps=1e-05, momentum=0.1, affine=True, track_running_stats=True)\n",
              "      (conv3): Conv2d(256, 1024, kernel_size=(1, 1), stride=(1, 1), bias=False)\n",
              "      (bn3): BatchNorm2d(1024, eps=1e-05, momentum=0.1, affine=True, track_running_stats=True)\n",
              "      (relu): ReLU(inplace=True)\n",
              "    )\n",
              "    (4): Bottleneck(\n",
              "      (conv1): Conv2d(1024, 256, kernel_size=(1, 1), stride=(1, 1), bias=False)\n",
              "      (bn1): BatchNorm2d(256, eps=1e-05, momentum=0.1, affine=True, track_running_stats=True)\n",
              "      (conv2): Conv2d(256, 256, kernel_size=(3, 3), stride=(1, 1), padding=(1, 1), bias=False)\n",
              "      (bn2): BatchNorm2d(256, eps=1e-05, momentum=0.1, affine=True, track_running_stats=True)\n",
              "      (conv3): Conv2d(256, 1024, kernel_size=(1, 1), stride=(1, 1), bias=False)\n",
              "      (bn3): BatchNorm2d(1024, eps=1e-05, momentum=0.1, affine=True, track_running_stats=True)\n",
              "      (relu): ReLU(inplace=True)\n",
              "    )\n",
              "    (5): Bottleneck(\n",
              "      (conv1): Conv2d(1024, 256, kernel_size=(1, 1), stride=(1, 1), bias=False)\n",
              "      (bn1): BatchNorm2d(256, eps=1e-05, momentum=0.1, affine=True, track_running_stats=True)\n",
              "      (conv2): Conv2d(256, 256, kernel_size=(3, 3), stride=(1, 1), padding=(1, 1), bias=False)\n",
              "      (bn2): BatchNorm2d(256, eps=1e-05, momentum=0.1, affine=True, track_running_stats=True)\n",
              "      (conv3): Conv2d(256, 1024, kernel_size=(1, 1), stride=(1, 1), bias=False)\n",
              "      (bn3): BatchNorm2d(1024, eps=1e-05, momentum=0.1, affine=True, track_running_stats=True)\n",
              "      (relu): ReLU(inplace=True)\n",
              "    )\n",
              "  )\n",
              "  (layer4): Sequential(\n",
              "    (0): Bottleneck(\n",
              "      (conv1): Conv2d(1024, 512, kernel_size=(1, 1), stride=(1, 1), bias=False)\n",
              "      (bn1): BatchNorm2d(512, eps=1e-05, momentum=0.1, affine=True, track_running_stats=True)\n",
              "      (conv2): Conv2d(512, 512, kernel_size=(3, 3), stride=(2, 2), padding=(1, 1), bias=False)\n",
              "      (bn2): BatchNorm2d(512, eps=1e-05, momentum=0.1, affine=True, track_running_stats=True)\n",
              "      (conv3): Conv2d(512, 2048, kernel_size=(1, 1), stride=(1, 1), bias=False)\n",
              "      (bn3): BatchNorm2d(2048, eps=1e-05, momentum=0.1, affine=True, track_running_stats=True)\n",
              "      (relu): ReLU(inplace=True)\n",
              "      (downsample): Sequential(\n",
              "        (0): Conv2d(1024, 2048, kernel_size=(1, 1), stride=(2, 2), bias=False)\n",
              "        (1): BatchNorm2d(2048, eps=1e-05, momentum=0.1, affine=True, track_running_stats=True)\n",
              "      )\n",
              "    )\n",
              "    (1): Bottleneck(\n",
              "      (conv1): Conv2d(2048, 512, kernel_size=(1, 1), stride=(1, 1), bias=False)\n",
              "      (bn1): BatchNorm2d(512, eps=1e-05, momentum=0.1, affine=True, track_running_stats=True)\n",
              "      (conv2): Conv2d(512, 512, kernel_size=(3, 3), stride=(1, 1), padding=(1, 1), bias=False)\n",
              "      (bn2): BatchNorm2d(512, eps=1e-05, momentum=0.1, affine=True, track_running_stats=True)\n",
              "      (conv3): Conv2d(512, 2048, kernel_size=(1, 1), stride=(1, 1), bias=False)\n",
              "      (bn3): BatchNorm2d(2048, eps=1e-05, momentum=0.1, affine=True, track_running_stats=True)\n",
              "      (relu): ReLU(inplace=True)\n",
              "    )\n",
              "    (2): Bottleneck(\n",
              "      (conv1): Conv2d(2048, 512, kernel_size=(1, 1), stride=(1, 1), bias=False)\n",
              "      (bn1): BatchNorm2d(512, eps=1e-05, momentum=0.1, affine=True, track_running_stats=True)\n",
              "      (conv2): Conv2d(512, 512, kernel_size=(3, 3), stride=(1, 1), padding=(1, 1), bias=False)\n",
              "      (bn2): BatchNorm2d(512, eps=1e-05, momentum=0.1, affine=True, track_running_stats=True)\n",
              "      (conv3): Conv2d(512, 2048, kernel_size=(1, 1), stride=(1, 1), bias=False)\n",
              "      (bn3): BatchNorm2d(2048, eps=1e-05, momentum=0.1, affine=True, track_running_stats=True)\n",
              "      (relu): ReLU(inplace=True)\n",
              "    )\n",
              "  )\n",
              "  (avgpool): AdaptiveAvgPool2d(output_size=(1, 1))\n",
              "  (fc): Sequential(\n",
              "    (0): Linear(in_features=2048, out_features=10, bias=True)\n",
              "  )\n",
              ")"
            ]
          },
          "metadata": {},
          "execution_count": 10
        }
      ]
    },
    {
      "cell_type": "code",
      "source": [
        "def create_student():\n",
        "  student = resnet18()\n",
        "  student.fc = nn.Sequential(\n",
        "      nn.Linear(512,10)\n",
        "  )\n",
        "\n",
        "  model = student.to(device)\n",
        "\n",
        "  params = []\n",
        "  for name,param in model.named_parameters():\n",
        "      if param.requires_grad == True:\n",
        "          params.append(param)\n",
        "\n",
        "  optimizer = torch.optim.Adam(params)\n",
        "  return model,optimizer"
      ],
      "metadata": {
        "id": "iT7g41dVdjsV"
      },
      "execution_count": 11,
      "outputs": []
    },
    {
      "cell_type": "code",
      "source": [
        "#searching for the best parameters \n",
        "loss_fn = nn.CrossEntropyLoss().to(device)\n",
        "alpha_list = [0.8,0.9]\n",
        "taw_list = [4,3]\n",
        "best_acc = 0\n",
        "best_duo = (0.1,4)\n",
        "for taw,alpha in product(taw_list,alpha_list):\n",
        "  model,optmizer = create_student()\n",
        "  error, acc = train_loop_teacher(train_dataloader, model, teacher, loss_fn, optimizer,alpha,taw)\n",
        "  error, acc = train_loop_teacher(train_dataloader, model, teacher, loss_fn, optimizer,alpha,taw)\n",
        "  print(f\"error and accuracy of model tuned with hyperparameters : {(taw,alpha)} , reached : {(error,acc)}\")\n",
        "  if (acc > best_acc):\n",
        "    best_duo = (taw,alpha)\n",
        "    best_acc = acc\n",
        "print(f\"best results were gained when taw and alpha were set to :{best_duo}\\t with accuracy :{best_acc} on the train set\")\n",
        "taw,alpha = best_duo"
      ],
      "metadata": {
        "id": "JGx-cbaBqRvQ",
        "colab": {
          "base_uri": "https://localhost:8080/"
        },
        "outputId": "7aa4d530-6918-4868-e103-bfbf6a2950ee"
      },
      "execution_count": null,
      "outputs": [
        {
          "output_type": "stream",
          "name": "stdout",
          "text": [
            "error and accuracy of model tuned with hyperparameters : (4, 0.8) , reached : (29.933518821930946, 0.10062)\n",
            "error and accuracy of model tuned with hyperparameters : (4, 0.9) , reached : (33.38636658807545, 0.1168)\n",
            "error and accuracy of model tuned with hyperparameters : (3, 0.8) , reached : (17.041034357017264, 0.07332)\n",
            "error and accuracy of model tuned with hyperparameters : (3, 0.9) , reached : (18.879681755514707, 0.09222)\n",
            "best results were gained when taw and alpha were set to :(4, 0.9)\t with accuracy :0.1168 on the train set\n"
          ]
        }
      ]
    },
    {
      "cell_type": "code",
      "source": [
        "train_loss = []\n",
        "train_acc = []\n",
        "test_acc = []\n",
        "model,optimizer = create_student()\n",
        "loss_fn = nn.CrossEntropyLoss().to(device)\n",
        "epochs = 12\n",
        "for t in range(epochs):\n",
        "    error, acc = train_loop_teacher(train_dataloader, model, teacher, loss_fn, optimizer,alpha,taw)\n",
        "    train_loss.append(error)\n",
        "    train_acc.append(acc)\n",
        "\n",
        "    t_acc , t_loss = test_loop_cnn(test_dataloader,model,loss_fn)\n",
        "    test_acc.append(t_acc)\n",
        "\n",
        "    if (t%3 == 2):\n",
        "      print(f\"loss of epoch {t+1} equals : {train_loss[t]}\")\n",
        "      print(f\"Accuracy of epoch {t+1} equals : {train_acc[t]}\")\n",
        "      print(f\"Accuracy of epoch {t+1} for validation set equals : {test_acc[t]}\")\n",
        "    \n",
        "print(\"Done!\")"
      ],
      "metadata": {
        "colab": {
          "base_uri": "https://localhost:8080/"
        },
        "id": "kDXCPNGU_5Ou",
        "outputId": "a575dd5c-e754-4865-e204-af0f273bfbce"
      },
      "execution_count": 16,
      "outputs": [
        {
          "output_type": "stream",
          "name": "stdout",
          "text": [
            "loss of epoch 3 equals : 30.438054467710998\n",
            "Accuracy of epoch 3 equals : 0.6669\n",
            "Accuracy of epoch 3 for validation set equals : 0.6769\n",
            "loss of epoch 6 equals : 30.11399556425831\n",
            "Accuracy of epoch 6 equals : 0.75848\n",
            "Accuracy of epoch 6 for validation set equals : 0.7627\n",
            "loss of epoch 9 equals : 29.9799117846867\n",
            "Accuracy of epoch 9 equals : 0.80352\n",
            "Accuracy of epoch 9 for validation set equals : 0.7823\n",
            "loss of epoch 12 equals : 29.903645000799234\n",
            "Accuracy of epoch 12 equals : 0.82886\n",
            "Accuracy of epoch 12 for validation set equals : 0.8067\n",
            "Done!\n"
          ]
        }
      ]
    },
    {
      "cell_type": "code",
      "source": [
        "plt.title(\"Loss per epoch\")\n",
        "plt.xlabel(\"epoch\")\n",
        "plt.ylabel(\"loss\")\n",
        "plt.scatter(np.arange(start=0,stop=epochs),train_loss,s=1,c='blue')"
      ],
      "metadata": {
        "id": "KQV5fgmYfyk5",
        "colab": {
          "base_uri": "https://localhost:8080/",
          "height": 312
        },
        "outputId": "b4355825-1dc3-49cb-af75-db63aa0c824b"
      },
      "execution_count": 17,
      "outputs": [
        {
          "output_type": "execute_result",
          "data": {
            "text/plain": [
              "<matplotlib.collections.PathCollection at 0x7f12707b5c10>"
            ]
          },
          "metadata": {},
          "execution_count": 17
        },
        {
          "output_type": "display_data",
          "data": {
            "text/plain": [
              "<Figure size 432x288 with 1 Axes>"
            ],
            "image/png": "[encoded data removed]"
          },
          "metadata": {
            "needs_background": "light"
          }
        }
      ]
    },
    {
      "cell_type": "code",
      "source": [
        "plt.title(\"Accuracy per epoch\")\n",
        "plt.xlabel(\"epoch\")\n",
        "plt.ylabel(\"accuracy\")\n",
        "plt.plot(np.arange(start=0,stop=epochs),train_acc,c='blue')\n",
        "plt.plot(np.arange(start=0,stop=epochs),test_acc,c='red')\n",
        "plt.legend()"
      ],
      "metadata": {
        "id": "2E3TFXI1fyg0",
        "colab": {
          "base_uri": "https://localhost:8080/",
          "height": 330
        },
        "outputId": "43a43073-0ff7-4abe-968a-2d26c9e637f1"
      },
      "execution_count": 18,
      "outputs": [
        {
          "output_type": "stream",
          "name": "stderr",
          "text": [
            "WARNING:matplotlib.legend:No handles with labels found to put in legend.\n"
          ]
        },
        {
          "output_type": "execute_result",
          "data": {
            "text/plain": [
              "<matplotlib.legend.Legend at 0x7f1270763eb0>"
            ]
          },
          "metadata": {},
          "execution_count": 18
        },
        {
          "output_type": "display_data",
          "data": {
            "text/plain": [
              "<Figure size 432x288 with 1 Axes>"
            ],
            "image/png": "[encoded data removed]"
          },
          "metadata": {
            "needs_background": "light"
          }
        }
      ]
    },
    {
      "cell_type": "code",
      "source": [
        "pred,y = test_pred_cnn(test_dataloader,model)"
      ],
      "metadata": {
        "id": "2gJp4DCWepZd"
      },
      "execution_count": 19,
      "outputs": []
    },
    {
      "cell_type": "code",
      "source": [
        "acc,loss_t = test_loop_cnn(test_dataloader,model,loss_fn) \n",
        "print(f\"the best model's loss on the test dataset is being : {loss_t}\")"
      ],
      "metadata": {
        "id": "SK6cjcCpfq1y",
        "colab": {
          "base_uri": "https://localhost:8080/"
        },
        "outputId": "fb986ec5-fe06-4659-f638-0ff290157370"
      },
      "execution_count": 20,
      "outputs": [
        {
          "output_type": "stream",
          "name": "stdout",
          "text": [
            "the best model's loss on the test dataset is being : 5.991704296875\n"
          ]
        }
      ]
    },
    {
      "cell_type": "code",
      "source": [
        "confusion_matrix = metrics.confusion_matrix(y.to(\"cpu\"),pred.to(\"cpu\"))\n",
        "cm_display = metrics.ConfusionMatrixDisplay(confusion_matrix = confusion_matrix)\n",
        "cm_display.plot()\n",
        "plt.show()"
      ],
      "metadata": {
        "id": "RapWyF7gfq0I",
        "colab": {
          "base_uri": "https://localhost:8080/",
          "height": 279
        },
        "outputId": "729a16be-83af-4e95-ccc5-2dd9c25506a7"
      },
      "execution_count": 21,
      "outputs": [
        {
          "output_type": "display_data",
          "data": {
            "text/plain": [
              "<Figure size 432x288 with 2 Axes>"
            ],
            "image/png": "[encoded data removed]"
          },
          "metadata": {
            "needs_background": "light"
          }
        }
      ]
    },
    {
      "cell_type": "code",
      "source": [
        "print(classification_report(y.to(\"cpu\"),pred.to(\"cpu\")))"
      ],
      "metadata": {
        "id": "odpRUokOfqv1",
        "colab": {
          "base_uri": "https://localhost:8080/"
        },
        "outputId": "8794b89d-11de-4ebf-a2de-bfbda2495f90"
      },
      "execution_count": 22,
      "outputs": [
        {
          "output_type": "stream",
          "name": "stdout",
          "text": [
            "              precision    recall  f1-score   support\n",
            "\n",
            "         0.0       0.86      0.79      0.82      1000\n",
            "         1.0       0.88      0.94      0.91      1000\n",
            "         2.0       0.79      0.68      0.73      1000\n",
            "         3.0       0.67      0.64      0.66      1000\n",
            "         4.0       0.80      0.77      0.78      1000\n",
            "         5.0       0.67      0.82      0.74      1000\n",
            "         6.0       0.79      0.87      0.83      1000\n",
            "         7.0       0.89      0.80      0.84      1000\n",
            "         8.0       0.84      0.93      0.88      1000\n",
            "         9.0       0.91      0.85      0.88      1000\n",
            "\n",
            "    accuracy                           0.81     10000\n",
            "   macro avg       0.81      0.81      0.81     10000\n",
            "weighted avg       0.81      0.81      0.81     10000\n",
            "\n"
          ]
        }
      ]
    },
    {
      "cell_type": "code",
      "source": [
        "torch.save(model, 'resnet_sectionB.pth')"
      ],
      "metadata": {
        "id": "2P61EMj4fqrU"
      },
      "execution_count": 23,
      "outputs": []
    },
    {
      "cell_type": "markdown",
      "source": [
        "#Section C :\n",
        "Training Resnet18 without using our section a model as the teacher model. "
      ],
      "metadata": {
        "id": "NkrRNR3ilvRf"
      }
    },
    {
      "cell_type": "code",
      "source": [
        "student = resnet18()\n",
        "student.fc = nn.Sequential(\n",
        "    nn.Linear(512,10)\n",
        ")\n",
        "\n",
        "model = student.to(device)\n",
        "\n",
        "loss_fn = nn.CrossEntropyLoss().to(device)\n",
        "\n",
        "params = []\n",
        "for name,param in model.named_parameters():\n",
        "    if param.requires_grad == True:\n",
        "        params.append(param)\n",
        "\n",
        "optimizer = torch.optim.Adam(params)\n",
        "alpha = 0.9\n",
        "taw  = 4"
      ],
      "metadata": {
        "id": "K7Ir9TbIl8JV"
      },
      "execution_count": null,
      "outputs": []
    },
    {
      "cell_type": "code",
      "source": [
        "train_loss = []\n",
        "train_acc = []\n",
        "test_acc = []\n",
        "\n",
        "epochs = 12\n",
        "for t in range(epochs):\n",
        "    error, acc = train_loop_cnn(train_dataloader, model, loss_fn, optimizer)\n",
        "    train_loss.append(error)\n",
        "    train_acc.append(acc)\n",
        "\n",
        "    t_acc , t_loss = test_loop_cnn(test_dataloader,model,loss_fn)\n",
        "    test_acc.append(t_acc)\n",
        "\n",
        "    if (t%3 == 2):\n",
        "      print(f\"loss of epoch {t+1} equals : {train_loss[t]}\")\n",
        "      print(f\"Accuracy of epoch {t+1} equals : {train_acc[t]}\")\n",
        "      print(f\"Accuracy of epoch {t+1} for validation set equals : {test_acc[t]}\")\n",
        "    \n",
        "print(\"Done!\")"
      ],
      "metadata": {
        "id": "5mIVbRqNmfh9",
        "colab": {
          "base_uri": "https://localhost:8080/"
        },
        "outputId": "f739b4a2-f145-406d-cc43-d444935c9d60"
      },
      "execution_count": null,
      "outputs": [
        {
          "output_type": "stream",
          "name": "stderr",
          "text": [
            "/usr/local/lib/python3.8/dist-packages/torch/utils/data/dataloader.py:554: UserWarning: This DataLoader will create 3 worker processes in total. Our suggested max number of worker in current system is 2, which is smaller than what this DataLoader is going to create. Please be aware that excessive worker creation might get DataLoader running slow or even freeze, lower the worker number to avoid potential slowness/freeze if necessary.\n",
            "  warnings.warn(_create_warning_msg(\n"
          ]
        },
        {
          "output_type": "stream",
          "name": "stdout",
          "text": [
            "loss of epoch 3 equals : 0.6186412606397858\n",
            "Accuracy of epoch 3 equals : 0.78492\n",
            "Accuracy of epoch 3 for validation set equals : 0.8027\n",
            "loss of epoch 6 equals : 0.3654847206057185\n",
            "Accuracy of epoch 6 equals : 0.87408\n",
            "Accuracy of epoch 6 for validation set equals : 0.843\n",
            "loss of epoch 9 equals : 0.2217202735374041\n",
            "Accuracy of epoch 9 equals : 0.92292\n",
            "Accuracy of epoch 9 for validation set equals : 0.8615\n",
            "loss of epoch 12 equals : 0.1307905445928159\n",
            "Accuracy of epoch 12 equals : 0.95468\n",
            "Accuracy of epoch 12 for validation set equals : 0.8641\n",
            "Done!\n"
          ]
        }
      ]
    },
    {
      "cell_type": "code",
      "source": [
        "plt.title(\"Loss per epoch\")\n",
        "plt.xlabel(\"epoch\")\n",
        "plt.ylabel(\"loss\")\n",
        "plt.scatter(np.arange(start=0,stop=epochs),train_loss,s=1,c='blue')"
      ],
      "metadata": {
        "id": "YiBA4yWPnGfi",
        "colab": {
          "base_uri": "https://localhost:8080/",
          "height": 312
        },
        "outputId": "39d43fdc-89eb-483d-ce1c-79fdcdffdf95"
      },
      "execution_count": null,
      "outputs": [
        {
          "output_type": "execute_result",
          "data": {
            "text/plain": [
              "<matplotlib.collections.PathCollection at 0x7fbdb02eb2e0>"
            ]
          },
          "metadata": {},
          "execution_count": 23
        },
        {
          "output_type": "display_data",
          "data": {
            "text/plain": [
              "<Figure size 432x288 with 1 Axes>"
            ],
            "image/png": "[encoded data removed]"
          },
          "metadata": {
            "needs_background": "light"
          }
        }
      ]
    },
    {
      "cell_type": "code",
      "source": [
        "plt.title(\"Accuracy per epoch\")\n",
        "plt.xlabel(\"epoch\")\n",
        "plt.ylabel(\"accuracy\")\n",
        "plt.plot(np.arange(start=0,stop=epochs),train_acc,c='blue')\n",
        "plt.plot(np.arange(start=0,stop=epochs),test_acc,c='red')\n",
        "plt.legend()"
      ],
      "metadata": {
        "id": "orpXxMwsnGcD",
        "colab": {
          "base_uri": "https://localhost:8080/",
          "height": 330
        },
        "outputId": "dccfbfd3-70a9-4b04-b8e8-461f6c389bf5"
      },
      "execution_count": null,
      "outputs": [
        {
          "output_type": "stream",
          "name": "stderr",
          "text": [
            "WARNING:matplotlib.legend:No handles with labels found to put in legend.\n"
          ]
        },
        {
          "output_type": "execute_result",
          "data": {
            "text/plain": [
              "<matplotlib.legend.Legend at 0x7fbdb00bf7c0>"
            ]
          },
          "metadata": {},
          "execution_count": 24
        },
        {
          "output_type": "display_data",
          "data": {
            "text/plain": [
              "<Figure size 432x288 with 1 Axes>"
            ],
            "image/png": "[encoded data removed]"
          },
          "metadata": {
            "needs_background": "light"
          }
        }
      ]
    },
    {
      "cell_type": "code",
      "source": [
        "pred,y = test_pred_cnn(test_dataloader,model)"
      ],
      "metadata": {
        "id": "sAS87Ce1nGYm",
        "colab": {
          "base_uri": "https://localhost:8080/"
        },
        "outputId": "c050d395-81ee-4c87-f025-1319a509d548"
      },
      "execution_count": null,
      "outputs": [
        {
          "output_type": "stream",
          "name": "stderr",
          "text": [
            "/usr/local/lib/python3.8/dist-packages/torch/utils/data/dataloader.py:554: UserWarning: This DataLoader will create 3 worker processes in total. Our suggested max number of worker in current system is 2, which is smaller than what this DataLoader is going to create. Please be aware that excessive worker creation might get DataLoader running slow or even freeze, lower the worker number to avoid potential slowness/freeze if necessary.\n",
            "  warnings.warn(_create_warning_msg(\n"
          ]
        }
      ]
    },
    {
      "cell_type": "code",
      "source": [
        "acc,loss_t = test_loop_cnn(test_dataloader,model,loss_fn) \n",
        "print(f\"the best model's loss on the test dataset is being : {loss_t}\")"
      ],
      "metadata": {
        "id": "w-awGLccnGWR",
        "colab": {
          "base_uri": "https://localhost:8080/"
        },
        "outputId": "4f373634-eb1d-43f9-bf31-0b11cdea21e2"
      },
      "execution_count": null,
      "outputs": [
        {
          "output_type": "stream",
          "name": "stdout",
          "text": [
            "the best model's loss on the test dataset is being : 0.9239927734375\n"
          ]
        }
      ]
    },
    {
      "cell_type": "code",
      "source": [
        "confusion_matrix = metrics.confusion_matrix(y.to(\"cpu\"),pred.to(\"cpu\"))\n",
        "cm_display = metrics.ConfusionMatrixDisplay(confusion_matrix = confusion_matrix)\n",
        "cm_display.plot()\n",
        "plt.show()"
      ],
      "metadata": {
        "id": "-aOsADG6nGT8",
        "colab": {
          "base_uri": "https://localhost:8080/",
          "height": 279
        },
        "outputId": "f7003577-7b05-4bec-a967-c3e5edc8afd6"
      },
      "execution_count": null,
      "outputs": [
        {
          "output_type": "display_data",
          "data": {
            "text/plain": [
              "<Figure size 432x288 with 2 Axes>"
            ],
            "image/png": "[encoded data removed]"
          },
          "metadata": {
            "needs_background": "light"
          }
        }
      ]
    },
    {
      "cell_type": "code",
      "source": [
        "print(classification_report(y.to(\"cpu\"),pred.to(\"cpu\")))"
      ],
      "metadata": {
        "id": "wZfuz_MinGPR",
        "colab": {
          "base_uri": "https://localhost:8080/"
        },
        "outputId": "bdb3e0a0-1521-43e8-8132-c0e6eebb13e0"
      },
      "execution_count": null,
      "outputs": [
        {
          "output_type": "stream",
          "name": "stdout",
          "text": [
            "              precision    recall  f1-score   support\n",
            "\n",
            "         0.0       0.93      0.84      0.88      1000\n",
            "         1.0       0.91      0.95      0.93      1000\n",
            "         2.0       0.80      0.84      0.82      1000\n",
            "         3.0       0.79      0.70      0.74      1000\n",
            "         4.0       0.84      0.87      0.86      1000\n",
            "         5.0       0.78      0.81      0.80      1000\n",
            "         6.0       0.87      0.91      0.89      1000\n",
            "         7.0       0.94      0.89      0.91      1000\n",
            "         8.0       0.91      0.93      0.92      1000\n",
            "         9.0       0.90      0.92      0.91      1000\n",
            "\n",
            "    accuracy                           0.87     10000\n",
            "   macro avg       0.87      0.87      0.87     10000\n",
            "weighted avg       0.87      0.87      0.87     10000\n",
            "\n"
          ]
        }
      ]
    },
    {
      "cell_type": "code",
      "source": [
        "torch.save(model, 'resnet_sectionC.pth')"
      ],
      "metadata": {
        "id": "58aCWHMLnGMq"
      },
      "execution_count": null,
      "outputs": []
    },
    {
      "cell_type": "markdown",
      "source": [
        "##Subsection (Conclusion) :\n",
        "Model C results have been better so far; Although we've been expecting the exact opposite. The reason behind the situation might be the fact tht we couldn't reach a satisfying accuracy in section A with the model playing the teacher role in the next section.\n",
        "\n",
        "Anyways, In our opinion, the reason behind getting suitable results with distilation knowledge method, would be the fact that the bigger model would help the newer and smaller model to get past the nonlinearity in a much smoother and more efficient way.\n"
      ],
      "metadata": {
        "id": "xkA2BfwqzJKk"
      }
    },
    {
      "cell_type": "markdown",
      "source": [
        "#Section D :\n",
        "Fine tuning resnet50 "
      ],
      "metadata": {
        "id": "HvXmKdiHnbkE"
      }
    },
    {
      "cell_type": "code",
      "source": [
        "weights = ResNet50_Weights.DEFAULT\n",
        "model = resnet50(weights=ResNet50_Weights.IMAGENET1K_V2)\n",
        "\n",
        "model.fc = nn.Sequential(\n",
        "    nn.Linear(2048,10)\n",
        ")\n",
        "\n",
        "model = model.to(device)\n",
        "\n",
        "loss_fn = nn.CrossEntropyLoss().to(device)\n",
        "\n",
        "params = []\n",
        "for name,param in model.named_parameters():\n",
        "    if param.requires_grad == True:\n",
        "        params.append(param)\n",
        "print(f\"#parameters to learn :{len(params)}\")\n",
        "\n",
        "\n",
        "optimizer = torch.optim.Adam(params)\n"
      ],
      "metadata": {
        "id": "w2xITfv4nk-X",
        "colab": {
          "base_uri": "https://localhost:8080/",
          "height": 84,
          "referenced_widgets": [
            "a9499b3bb1654d56ad3069c54649f86c",
            "75f5fb3c45c34e2b92683f33696ee098",
            "b625a6a2940f4884a476258621349bae",
            "cb6578f908c44e80864b3fd76dc714cb",
            "db51f2e6091d45d1be646effee5f0d4d",
            "1e48653e5b3040eeb2ea3334c40fd031",
            "9450f067a58a4aaa822da0811e8092d2",
            "a2d900da5e4544b0b8c8a4493d51a873",
            "ec42e80a9939477199c63592960110e5",
            "b2f9936b8ec04591b3eb51e830de61f8",
            "31f97a2cc7f7431390ed29d03ec72380"
          ]
        },
        "outputId": "ba6da29a-0316-4410-947d-74707a2f5d58"
      },
      "execution_count": null,
      "outputs": [
        {
          "output_type": "stream",
          "name": "stderr",
          "text": [
            "Downloading: \"https://download.pytorch.org/models/resnet50-11ad3fa6.pth\" to /root/.cache/torch/hub/checkpoints/resnet50-11ad3fa6.pth\n"
          ]
        },
        {
          "output_type": "display_data",
          "data": {
            "text/plain": [
              "  0%|          | 0.00/97.8M [00:00<?, ?B/s]"
            ],
            "application/vnd.jupyter.widget-view+json": {
              "version_major": 2,
              "version_minor": 0,
              "model_id": "a9499b3bb1654d56ad3069c54649f86c"
            }
          },
          "metadata": {}
        },
        {
          "output_type": "stream",
          "name": "stdout",
          "text": [
            "#parameters to learn :161\n"
          ]
        }
      ]
    },
    {
      "cell_type": "code",
      "source": [
        "train_loss = []\n",
        "train_acc = []\n",
        "test_acc = []\n",
        "\n",
        "epochs = 6\n",
        "for t in range(epochs):\n",
        "    error, acc = train_loop_cnn(train_dataloader, model, loss_fn, optimizer)\n",
        "    train_loss.append(error)\n",
        "    train_acc.append(acc)\n",
        "\n",
        "    t_acc , t_loss = test_loop_cnn(test_dataloader,model,loss_fn)\n",
        "    test_acc.append(t_acc)\n",
        "\n",
        "    if (t%3 == 2):\n",
        "      print(f\"loss of epoch {t+1} equals : {train_loss[t]}\")\n",
        "      print(f\"Accuracy of epoch {t+1} equals : {train_acc[t]}\")\n",
        "      print(f\"Accuracy of epoch {t+1} for validation set equals : {test_acc[t]}\")\n",
        "    \n",
        "print(\"Done!\")"
      ],
      "metadata": {
        "id": "HZhaq5Ckny17",
        "colab": {
          "base_uri": "https://localhost:8080/",
          "height": 556
        },
        "outputId": "d3dbde96-cc63-42ec-d94f-030687471aec"
      },
      "execution_count": null,
      "outputs": [
        {
          "output_type": "stream",
          "name": "stderr",
          "text": [
            "/usr/local/lib/python3.8/dist-packages/torch/utils/data/dataloader.py:554: UserWarning: This DataLoader will create 3 worker processes in total. Our suggested max number of worker in current system is 2, which is smaller than what this DataLoader is going to create. Please be aware that excessive worker creation might get DataLoader running slow or even freeze, lower the worker number to avoid potential slowness/freeze if necessary.\n",
            "  warnings.warn(_create_warning_msg(\n"
          ]
        },
        {
          "output_type": "stream",
          "name": "stdout",
          "text": [
            "loss of epoch 3 equals : 0.22008229521534328\n",
            "Accuracy of epoch 3 equals : 0.92402\n",
            "Accuracy of epoch 3 for validation set equals : 0.9033\n",
            "loss of epoch 6 equals : 0.12257483792122063\n",
            "Accuracy of epoch 6 equals : 0.95722\n",
            "Accuracy of epoch 6 for validation set equals : 0.9153\n"
          ]
        },
        {
          "output_type": "error",
          "ename": "KeyboardInterrupt",
          "evalue": "ignored",
          "traceback": [
            "\u001b[0;31m---------------------------------------------------------------------------\u001b[0m",
            "\u001b[0;31mKeyboardInterrupt\u001b[0m                         Traceback (most recent call last)",
            "\u001b[0;32m<ipython-input-31-c8939bfb3baf>\u001b[0m in \u001b[0;36m<module>\u001b[0;34m\u001b[0m\n\u001b[1;32m      5\u001b[0m \u001b[0mepochs\u001b[0m \u001b[0;34m=\u001b[0m \u001b[0;36m12\u001b[0m\u001b[0;34m\u001b[0m\u001b[0;34m\u001b[0m\u001b[0m\n\u001b[1;32m      6\u001b[0m \u001b[0;32mfor\u001b[0m \u001b[0mt\u001b[0m \u001b[0;32min\u001b[0m \u001b[0mrange\u001b[0m\u001b[0;34m(\u001b[0m\u001b[0mepochs\u001b[0m\u001b[0;34m)\u001b[0m\u001b[0;34m:\u001b[0m\u001b[0;34m\u001b[0m\u001b[0;34m\u001b[0m\u001b[0m\n\u001b[0;32m----> 7\u001b[0;31m     \u001b[0merror\u001b[0m\u001b[0;34m,\u001b[0m \u001b[0macc\u001b[0m \u001b[0;34m=\u001b[0m \u001b[0mtrain_loop_cnn\u001b[0m\u001b[0;34m(\u001b[0m\u001b[0mtrain_dataloader\u001b[0m\u001b[0;34m,\u001b[0m \u001b[0mmodel\u001b[0m\u001b[0;34m,\u001b[0m \u001b[0mloss_fn\u001b[0m\u001b[0;34m,\u001b[0m \u001b[0moptimizer\u001b[0m\u001b[0;34m)\u001b[0m\u001b[0;34m\u001b[0m\u001b[0;34m\u001b[0m\u001b[0m\n\u001b[0m\u001b[1;32m      8\u001b[0m     \u001b[0mtrain_loss\u001b[0m\u001b[0;34m.\u001b[0m\u001b[0mappend\u001b[0m\u001b[0;34m(\u001b[0m\u001b[0merror\u001b[0m\u001b[0;34m)\u001b[0m\u001b[0;34m\u001b[0m\u001b[0;34m\u001b[0m\u001b[0m\n\u001b[1;32m      9\u001b[0m     \u001b[0mtrain_acc\u001b[0m\u001b[0;34m.\u001b[0m\u001b[0mappend\u001b[0m\u001b[0;34m(\u001b[0m\u001b[0macc\u001b[0m\u001b[0;34m)\u001b[0m\u001b[0;34m\u001b[0m\u001b[0;34m\u001b[0m\u001b[0m\n",
            "\u001b[0;32m<ipython-input-6-a7f57be6c035>\u001b[0m in \u001b[0;36mtrain_loop_cnn\u001b[0;34m(train_dataloader, model, loss_fn, optimizer)\u001b[0m\n\u001b[1;32m     26\u001b[0m         \u001b[0moptimizer\u001b[0m\u001b[0;34m.\u001b[0m\u001b[0mzero_grad\u001b[0m\u001b[0;34m(\u001b[0m\u001b[0;34m)\u001b[0m\u001b[0;34m\u001b[0m\u001b[0;34m\u001b[0m\u001b[0m\n\u001b[1;32m     27\u001b[0m         \u001b[0mloss\u001b[0m\u001b[0;34m.\u001b[0m\u001b[0mbackward\u001b[0m\u001b[0;34m(\u001b[0m\u001b[0;34m)\u001b[0m\u001b[0;34m\u001b[0m\u001b[0;34m\u001b[0m\u001b[0m\n\u001b[0;32m---> 28\u001b[0;31m         \u001b[0moptimizer\u001b[0m\u001b[0;34m.\u001b[0m\u001b[0mstep\u001b[0m\u001b[0;34m(\u001b[0m\u001b[0;34m)\u001b[0m\u001b[0;34m\u001b[0m\u001b[0;34m\u001b[0m\u001b[0m\n\u001b[0m\u001b[1;32m     29\u001b[0m     \u001b[0;32mreturn\u001b[0m \u001b[0mtotal_loss\u001b[0m\u001b[0;34m.\u001b[0m\u001b[0mitem\u001b[0m\u001b[0;34m(\u001b[0m\u001b[0;34m)\u001b[0m\u001b[0;34m/\u001b[0m\u001b[0mcount\u001b[0m \u001b[0;34m,\u001b[0m \u001b[0macc\u001b[0m\u001b[0;34m/\u001b[0m\u001b[0msize\u001b[0m\u001b[0;34m\u001b[0m\u001b[0;34m\u001b[0m\u001b[0m\n\u001b[1;32m     30\u001b[0m \u001b[0;34m\u001b[0m\u001b[0m\n",
            "\u001b[0;32m/usr/local/lib/python3.8/dist-packages/torch/optim/optimizer.py\u001b[0m in \u001b[0;36mwrapper\u001b[0;34m(*args, **kwargs)\u001b[0m\n\u001b[1;32m    138\u001b[0m                 \u001b[0mprofile_name\u001b[0m \u001b[0;34m=\u001b[0m \u001b[0;34m\"Optimizer.step#{}.step\"\u001b[0m\u001b[0;34m.\u001b[0m\u001b[0mformat\u001b[0m\u001b[0;34m(\u001b[0m\u001b[0mobj\u001b[0m\u001b[0;34m.\u001b[0m\u001b[0m__class__\u001b[0m\u001b[0;34m.\u001b[0m\u001b[0m__name__\u001b[0m\u001b[0;34m)\u001b[0m\u001b[0;34m\u001b[0m\u001b[0;34m\u001b[0m\u001b[0m\n\u001b[1;32m    139\u001b[0m                 \u001b[0;32mwith\u001b[0m \u001b[0mtorch\u001b[0m\u001b[0;34m.\u001b[0m\u001b[0mautograd\u001b[0m\u001b[0;34m.\u001b[0m\u001b[0mprofiler\u001b[0m\u001b[0;34m.\u001b[0m\u001b[0mrecord_function\u001b[0m\u001b[0;34m(\u001b[0m\u001b[0mprofile_name\u001b[0m\u001b[0;34m)\u001b[0m\u001b[0;34m:\u001b[0m\u001b[0;34m\u001b[0m\u001b[0;34m\u001b[0m\u001b[0m\n\u001b[0;32m--> 140\u001b[0;31m                     \u001b[0mout\u001b[0m \u001b[0;34m=\u001b[0m \u001b[0mfunc\u001b[0m\u001b[0;34m(\u001b[0m\u001b[0;34m*\u001b[0m\u001b[0margs\u001b[0m\u001b[0;34m,\u001b[0m \u001b[0;34m**\u001b[0m\u001b[0mkwargs\u001b[0m\u001b[0;34m)\u001b[0m\u001b[0;34m\u001b[0m\u001b[0;34m\u001b[0m\u001b[0m\n\u001b[0m\u001b[1;32m    141\u001b[0m                     \u001b[0mobj\u001b[0m\u001b[0;34m.\u001b[0m\u001b[0m_optimizer_step_code\u001b[0m\u001b[0;34m(\u001b[0m\u001b[0;34m)\u001b[0m\u001b[0;34m\u001b[0m\u001b[0;34m\u001b[0m\u001b[0m\n\u001b[1;32m    142\u001b[0m                     \u001b[0;32mreturn\u001b[0m \u001b[0mout\u001b[0m\u001b[0;34m\u001b[0m\u001b[0;34m\u001b[0m\u001b[0m\n",
            "\u001b[0;32m/usr/local/lib/python3.8/dist-packages/torch/optim/optimizer.py\u001b[0m in \u001b[0;36m_use_grad\u001b[0;34m(self, *args, **kwargs)\u001b[0m\n\u001b[1;32m     21\u001b[0m         \u001b[0;32mtry\u001b[0m\u001b[0;34m:\u001b[0m\u001b[0;34m\u001b[0m\u001b[0;34m\u001b[0m\u001b[0m\n\u001b[1;32m     22\u001b[0m             \u001b[0mtorch\u001b[0m\u001b[0;34m.\u001b[0m\u001b[0mset_grad_enabled\u001b[0m\u001b[0;34m(\u001b[0m\u001b[0mself\u001b[0m\u001b[0;34m.\u001b[0m\u001b[0mdefaults\u001b[0m\u001b[0;34m[\u001b[0m\u001b[0;34m'differentiable'\u001b[0m\u001b[0;34m]\u001b[0m\u001b[0;34m)\u001b[0m\u001b[0;34m\u001b[0m\u001b[0;34m\u001b[0m\u001b[0m\n\u001b[0;32m---> 23\u001b[0;31m             \u001b[0mret\u001b[0m \u001b[0;34m=\u001b[0m \u001b[0mfunc\u001b[0m\u001b[0;34m(\u001b[0m\u001b[0mself\u001b[0m\u001b[0;34m,\u001b[0m \u001b[0;34m*\u001b[0m\u001b[0margs\u001b[0m\u001b[0;34m,\u001b[0m \u001b[0;34m**\u001b[0m\u001b[0mkwargs\u001b[0m\u001b[0;34m)\u001b[0m\u001b[0;34m\u001b[0m\u001b[0;34m\u001b[0m\u001b[0m\n\u001b[0m\u001b[1;32m     24\u001b[0m         \u001b[0;32mfinally\u001b[0m\u001b[0;34m:\u001b[0m\u001b[0;34m\u001b[0m\u001b[0;34m\u001b[0m\u001b[0m\n\u001b[1;32m     25\u001b[0m             \u001b[0mtorch\u001b[0m\u001b[0;34m.\u001b[0m\u001b[0mset_grad_enabled\u001b[0m\u001b[0;34m(\u001b[0m\u001b[0mprev_grad\u001b[0m\u001b[0;34m)\u001b[0m\u001b[0;34m\u001b[0m\u001b[0;34m\u001b[0m\u001b[0m\n",
            "\u001b[0;32m/usr/local/lib/python3.8/dist-packages/torch/optim/adam.py\u001b[0m in \u001b[0;36mstep\u001b[0;34m(self, closure, grad_scaler)\u001b[0m\n\u001b[1;32m    232\u001b[0m                     \u001b[0mstate_steps\u001b[0m\u001b[0;34m.\u001b[0m\u001b[0mappend\u001b[0m\u001b[0;34m(\u001b[0m\u001b[0mstate\u001b[0m\u001b[0;34m[\u001b[0m\u001b[0;34m'step'\u001b[0m\u001b[0;34m]\u001b[0m\u001b[0;34m)\u001b[0m\u001b[0;34m\u001b[0m\u001b[0;34m\u001b[0m\u001b[0m\n\u001b[1;32m    233\u001b[0m \u001b[0;34m\u001b[0m\u001b[0m\n\u001b[0;32m--> 234\u001b[0;31m             adam(params_with_grad,\n\u001b[0m\u001b[1;32m    235\u001b[0m                  \u001b[0mgrads\u001b[0m\u001b[0;34m,\u001b[0m\u001b[0;34m\u001b[0m\u001b[0;34m\u001b[0m\u001b[0m\n\u001b[1;32m    236\u001b[0m                  \u001b[0mexp_avgs\u001b[0m\u001b[0;34m,\u001b[0m\u001b[0;34m\u001b[0m\u001b[0;34m\u001b[0m\u001b[0m\n",
            "\u001b[0;32m/usr/local/lib/python3.8/dist-packages/torch/optim/adam.py\u001b[0m in \u001b[0;36madam\u001b[0;34m(params, grads, exp_avgs, exp_avg_sqs, max_exp_avg_sqs, state_steps, foreach, capturable, differentiable, fused, grad_scale, found_inf, amsgrad, beta1, beta2, lr, weight_decay, eps, maximize)\u001b[0m\n\u001b[1;32m    298\u001b[0m         \u001b[0mfunc\u001b[0m \u001b[0;34m=\u001b[0m \u001b[0m_single_tensor_adam\u001b[0m\u001b[0;34m\u001b[0m\u001b[0;34m\u001b[0m\u001b[0m\n\u001b[1;32m    299\u001b[0m \u001b[0;34m\u001b[0m\u001b[0m\n\u001b[0;32m--> 300\u001b[0;31m     func(params,\n\u001b[0m\u001b[1;32m    301\u001b[0m          \u001b[0mgrads\u001b[0m\u001b[0;34m,\u001b[0m\u001b[0;34m\u001b[0m\u001b[0;34m\u001b[0m\u001b[0m\n\u001b[1;32m    302\u001b[0m          \u001b[0mexp_avgs\u001b[0m\u001b[0;34m,\u001b[0m\u001b[0;34m\u001b[0m\u001b[0;34m\u001b[0m\u001b[0m\n",
            "\u001b[0;32m/usr/local/lib/python3.8/dist-packages/torch/optim/adam.py\u001b[0m in \u001b[0;36m_single_tensor_adam\u001b[0;34m(params, grads, exp_avgs, exp_avg_sqs, max_exp_avg_sqs, state_steps, grad_scale, found_inf, amsgrad, beta1, beta2, lr, weight_decay, eps, maximize, capturable, differentiable)\u001b[0m\n\u001b[1;32m    362\u001b[0m         \u001b[0;31m# Decay the first and second moment running average coefficient\u001b[0m\u001b[0;34m\u001b[0m\u001b[0;34m\u001b[0m\u001b[0;34m\u001b[0m\u001b[0m\n\u001b[1;32m    363\u001b[0m         \u001b[0mexp_avg\u001b[0m\u001b[0;34m.\u001b[0m\u001b[0mmul_\u001b[0m\u001b[0;34m(\u001b[0m\u001b[0mbeta1\u001b[0m\u001b[0;34m)\u001b[0m\u001b[0;34m.\u001b[0m\u001b[0madd_\u001b[0m\u001b[0;34m(\u001b[0m\u001b[0mgrad\u001b[0m\u001b[0;34m,\u001b[0m \u001b[0malpha\u001b[0m\u001b[0;34m=\u001b[0m\u001b[0;36m1\u001b[0m \u001b[0;34m-\u001b[0m \u001b[0mbeta1\u001b[0m\u001b[0;34m)\u001b[0m\u001b[0;34m\u001b[0m\u001b[0;34m\u001b[0m\u001b[0m\n\u001b[0;32m--> 364\u001b[0;31m         \u001b[0mexp_avg_sq\u001b[0m\u001b[0;34m.\u001b[0m\u001b[0mmul_\u001b[0m\u001b[0;34m(\u001b[0m\u001b[0mbeta2\u001b[0m\u001b[0;34m)\u001b[0m\u001b[0;34m.\u001b[0m\u001b[0maddcmul_\u001b[0m\u001b[0;34m(\u001b[0m\u001b[0mgrad\u001b[0m\u001b[0;34m,\u001b[0m \u001b[0mgrad\u001b[0m\u001b[0;34m.\u001b[0m\u001b[0mconj\u001b[0m\u001b[0;34m(\u001b[0m\u001b[0;34m)\u001b[0m\u001b[0;34m,\u001b[0m \u001b[0mvalue\u001b[0m\u001b[0;34m=\u001b[0m\u001b[0;36m1\u001b[0m \u001b[0;34m-\u001b[0m \u001b[0mbeta2\u001b[0m\u001b[0;34m)\u001b[0m\u001b[0;34m\u001b[0m\u001b[0;34m\u001b[0m\u001b[0m\n\u001b[0m\u001b[1;32m    365\u001b[0m \u001b[0;34m\u001b[0m\u001b[0m\n\u001b[1;32m    366\u001b[0m         \u001b[0;32mif\u001b[0m \u001b[0mcapturable\u001b[0m \u001b[0;32mor\u001b[0m \u001b[0mdifferentiable\u001b[0m\u001b[0;34m:\u001b[0m\u001b[0;34m\u001b[0m\u001b[0;34m\u001b[0m\u001b[0m\n",
            "\u001b[0;31mKeyboardInterrupt\u001b[0m: "
          ]
        }
      ]
    },
    {
      "cell_type": "code",
      "source": [
        "plt.title(\"Loss per epoch\")\n",
        "plt.xlabel(\"epoch\")\n",
        "plt.ylabel(\"loss\")\n",
        "plt.scatter(np.arange(start=0,stop=12),train_loss,s=1,c='blue')"
      ],
      "metadata": {
        "id": "J43ejvxRn227",
        "colab": {
          "base_uri": "https://localhost:8080/",
          "height": 312
        },
        "outputId": "400f6736-bee7-4a1e-d70b-c557cdd780c1"
      },
      "execution_count": null,
      "outputs": [
        {
          "output_type": "execute_result",
          "data": {
            "text/plain": [
              "<matplotlib.collections.PathCollection at 0x7fbdc1c3b6a0>"
            ]
          },
          "metadata": {},
          "execution_count": 34
        },
        {
          "output_type": "display_data",
          "data": {
            "text/plain": [
              "<Figure size 432x288 with 1 Axes>"
            ],
            "image/png": "[encoded data removed]"
          },
          "metadata": {
            "needs_background": "light"
          }
        }
      ]
    },
    {
      "cell_type": "code",
      "source": [
        "plt.title(\"Accuracy per epoch\")\n",
        "plt.xlabel(\"epoch\")\n",
        "plt.ylabel(\"accuracy\")\n",
        "plt.plot(np.arange(start=0,stop=6),train_acc,c='blue')\n",
        "plt.plot(np.arange(start=0,stop=6),test_acc,c='red')\n",
        "plt.legend()"
      ],
      "metadata": {
        "id": "r77UflWen21L",
        "colab": {
          "base_uri": "https://localhost:8080/",
          "height": 330
        },
        "outputId": "997a0df0-00a4-4df4-86fd-45fafe3654b5"
      },
      "execution_count": null,
      "outputs": [
        {
          "output_type": "stream",
          "name": "stderr",
          "text": [
            "WARNING:matplotlib.legend:No handles with labels found to put in legend.\n"
          ]
        },
        {
          "output_type": "execute_result",
          "data": {
            "text/plain": [
              "<matplotlib.legend.Legend at 0x7fbdb02ebf10>"
            ]
          },
          "metadata": {},
          "execution_count": 36
        },
        {
          "output_type": "display_data",
          "data": {
            "text/plain": [
              "<Figure size 432x288 with 1 Axes>"
            ],
            "image/png": "[encoded data removed]"
          },
          "metadata": {
            "needs_background": "light"
          }
        }
      ]
    },
    {
      "cell_type": "markdown",
      "source": [
        "**Due to Computation limitations, we split the training process into two parts**"
      ],
      "metadata": {
        "id": "ZI9UCzkhcFFJ"
      }
    },
    {
      "cell_type": "code",
      "source": [
        "train_loss = []\n",
        "train_acc = []\n",
        "test_acc = []\n",
        "\n",
        "epochs = 4\n",
        "for t in range(epochs):\n",
        "    error, acc = train_loop_cnn(train_dataloader, model, loss_fn, optimizer)\n",
        "    train_loss.append(error)\n",
        "    train_acc.append(acc)\n",
        "\n",
        "    t_acc , t_loss = test_loop_cnn(test_dataloader,model,loss_fn)\n",
        "    test_acc.append(t_acc)\n",
        "\n",
        "    if (t%3 == 2):\n",
        "      print(f\"loss of epoch {t+1} equals : {train_loss[t]}\")\n",
        "      print(f\"Accuracy of epoch {t+1} equals : {train_acc[t]}\")\n",
        "      print(f\"Accuracy of epoch {t+1} for validation set equals : {test_acc[t]}\")\n",
        "    \n",
        "print(\"Done!\")"
      ],
      "metadata": {
        "colab": {
          "base_uri": "https://localhost:8080/"
        },
        "id": "ucnD_S2fcRdG",
        "outputId": "c09da6ef-1b75-4514-8a43-a9a1030243de"
      },
      "execution_count": null,
      "outputs": [
        {
          "output_type": "stream",
          "name": "stderr",
          "text": [
            "/usr/local/lib/python3.8/dist-packages/torch/utils/data/dataloader.py:554: UserWarning: This DataLoader will create 3 worker processes in total. Our suggested max number of worker in current system is 2, which is smaller than what this DataLoader is going to create. Please be aware that excessive worker creation might get DataLoader running slow or even freeze, lower the worker number to avoid potential slowness/freeze if necessary.\n",
            "  warnings.warn(_create_warning_msg(\n"
          ]
        },
        {
          "output_type": "stream",
          "name": "stdout",
          "text": [
            "loss of epoch 3 equals : 0.07418445187151584\n",
            "Accuracy of epoch 3 equals : 0.9743\n",
            "Accuracy of epoch 3 for validation set equals : 0.9255\n",
            "Done!\n"
          ]
        }
      ]
    },
    {
      "cell_type": "code",
      "source": [
        "plt.title(\"Loss per epoch part 2\")\n",
        "plt.xlabel(\"epoch\")\n",
        "plt.ylabel(\"loss\")\n",
        "plt.scatter(np.arange(start=6,stop=10),train_loss,s=1,c='blue')"
      ],
      "metadata": {
        "colab": {
          "base_uri": "https://localhost:8080/",
          "height": 312
        },
        "id": "rHOG1gRkctkR",
        "outputId": "1ca84a7a-7a0b-441e-db87-90ce2ad807cb"
      },
      "execution_count": null,
      "outputs": [
        {
          "output_type": "execute_result",
          "data": {
            "text/plain": [
              "<matplotlib.collections.PathCollection at 0x7fbdba310100>"
            ]
          },
          "metadata": {},
          "execution_count": 38
        },
        {
          "output_type": "display_data",
          "data": {
            "text/plain": [
              "<Figure size 432x288 with 1 Axes>"
            ],
            "image/png": "[encoded data removed]"
          },
          "metadata": {
            "needs_background": "light"
          }
        }
      ]
    },
    {
      "cell_type": "code",
      "source": [
        "plt.title(\"Accuracy per epoch part 2\")\n",
        "plt.xlabel(\"epoch\")\n",
        "plt.ylabel(\"accuracy\")\n",
        "plt.plot(np.arange(start=6,stop=10),train_acc,c='blue')\n",
        "plt.plot(np.arange(start=6,stop=10),test_acc,c='red')\n",
        "plt.legend()"
      ],
      "metadata": {
        "colab": {
          "base_uri": "https://localhost:8080/",
          "height": 330
        },
        "id": "1x4gp95Tcu6v",
        "outputId": "b6d0f61a-d1ae-4da6-ca24-f366b28e45c4"
      },
      "execution_count": null,
      "outputs": [
        {
          "output_type": "stream",
          "name": "stderr",
          "text": [
            "WARNING:matplotlib.legend:No handles with labels found to put in legend.\n"
          ]
        },
        {
          "output_type": "execute_result",
          "data": {
            "text/plain": [
              "<matplotlib.legend.Legend at 0x7fbdb02fe670>"
            ]
          },
          "metadata": {},
          "execution_count": 39
        },
        {
          "output_type": "display_data",
          "data": {
            "text/plain": [
              "<Figure size 432x288 with 1 Axes>"
            ],
            "image/png": "[encoded data removed]"
          },
          "metadata": {
            "needs_background": "light"
          }
        }
      ]
    },
    {
      "cell_type": "code",
      "source": [
        "pred,y = test_pred_cnn(test_dataloader,model)"
      ],
      "metadata": {
        "id": "cW7JI-Vmn2xq",
        "colab": {
          "base_uri": "https://localhost:8080/"
        },
        "outputId": "dd65e53c-ca73-48a7-e09b-bc87564d49c1"
      },
      "execution_count": null,
      "outputs": [
        {
          "output_type": "stream",
          "name": "stderr",
          "text": [
            "/usr/local/lib/python3.8/dist-packages/torch/utils/data/dataloader.py:554: UserWarning: This DataLoader will create 3 worker processes in total. Our suggested max number of worker in current system is 2, which is smaller than what this DataLoader is going to create. Please be aware that excessive worker creation might get DataLoader running slow or even freeze, lower the worker number to avoid potential slowness/freeze if necessary.\n",
            "  warnings.warn(_create_warning_msg(\n"
          ]
        }
      ]
    },
    {
      "cell_type": "code",
      "source": [
        "acc,loss_t = test_loop_cnn(test_dataloader,model,loss_fn) \n",
        "print(f\"the best model's loss on the test dataset is being : {loss_t}\")"
      ],
      "metadata": {
        "id": "lJJUrOfdn147",
        "colab": {
          "base_uri": "https://localhost:8080/"
        },
        "outputId": "6397e0bf-b9f2-4109-a5a7-aff196340f2e"
      },
      "execution_count": null,
      "outputs": [
        {
          "output_type": "stream",
          "name": "stdout",
          "text": [
            "the best model's loss on the test dataset is being : 0.5096337890625\n"
          ]
        }
      ]
    },
    {
      "cell_type": "code",
      "source": [
        "confusion_matrix = metrics.confusion_matrix(y.to(\"cpu\"),pred.to(\"cpu\"))\n",
        "cm_display = metrics.ConfusionMatrixDisplay(confusion_matrix = confusion_matrix)\n",
        "cm_display.plot()\n",
        "plt.show()"
      ],
      "metadata": {
        "id": "HqvjgYAEn12l",
        "colab": {
          "base_uri": "https://localhost:8080/",
          "height": 279
        },
        "outputId": "ff2d10db-1ca9-41c9-aab8-e67f51a1b179"
      },
      "execution_count": null,
      "outputs": [
        {
          "output_type": "display_data",
          "data": {
            "text/plain": [
              "<Figure size 432x288 with 2 Axes>"
            ],
            "image/png": "[encoded data removed]"
          },
          "metadata": {
            "needs_background": "light"
          }
        }
      ]
    },
    {
      "cell_type": "code",
      "source": [
        "print(classification_report(y.to(\"cpu\"),pred.to(\"cpu\")))"
      ],
      "metadata": {
        "id": "S423z5cKn10l",
        "colab": {
          "base_uri": "https://localhost:8080/"
        },
        "outputId": "97455646-4098-4e7f-9dc5-41c80fa8f20d"
      },
      "execution_count": null,
      "outputs": [
        {
          "output_type": "stream",
          "name": "stdout",
          "text": [
            "              precision    recall  f1-score   support\n",
            "\n",
            "         0.0       0.96      0.91      0.94      1000\n",
            "         1.0       0.94      0.97      0.95      1000\n",
            "         2.0       0.86      0.92      0.89      1000\n",
            "         3.0       0.88      0.85      0.86      1000\n",
            "         4.0       0.95      0.89      0.92      1000\n",
            "         5.0       0.85      0.91      0.88      1000\n",
            "         6.0       0.94      0.95      0.94      1000\n",
            "         7.0       0.96      0.94      0.95      1000\n",
            "         8.0       0.95      0.96      0.96      1000\n",
            "         9.0       0.97      0.93      0.95      1000\n",
            "\n",
            "    accuracy                           0.92     10000\n",
            "   macro avg       0.93      0.92      0.92     10000\n",
            "weighted avg       0.93      0.92      0.92     10000\n",
            "\n"
          ]
        }
      ]
    },
    {
      "cell_type": "code",
      "source": [
        "torch.save(model, 'resnet_sectionD.pth')"
      ],
      "metadata": {
        "id": "FbLdxE18n1xy"
      },
      "execution_count": null,
      "outputs": []
    },
    {
      "cell_type": "markdown",
      "source": [
        "##Subsection (Comparison): \n",
        "Fine-tuning the whole model will result in conv layers to adapt to the new dataset in a somewhat better way. Therefore it is more likely to have better and more important features extracted before the FC layer.\n",
        "\n",
        "**Personal Opinion:**\n",
        "Even if both datasets come from the same distribution; due to the unstability of noise, It would always be nice to reduce the generality of layers involved directly to the dataset, and go for a bit of overfitting act over the smaller but important dataset."
      ],
      "metadata": {
        "id": "DPu8NlZ94ZUh"
      }
    },
    {
      "cell_type": "code",
      "source": [],
      "metadata": {
        "id": "iutkxKGs5Wb9"
      },
      "execution_count": null,
      "outputs": []
    }
  ],
  "metadata": {
    "kernelspec": {
      "display_name": "Python 3",
      "language": "python",
      "name": "python3"
    },
    "language_info": {
      "codemirror_mode": {
        "name": "ipython",
        "version": 3
      },
      "file_extension": ".py",
      "mimetype": "text/x-python",
      "name": "python",
      "nbconvert_exporter": "python",
      "pygments_lexer": "ipython3",
      "version": "3.9.0"
    },
    "orig_nbformat": 4,
    "vscode": {
      "interpreter": {
        "hash": "ae6348d7e16027ebdfb65288d8d0312959290c4893892f367087b58465441ae9"
      }
    },
    "colab": {
      "provenance": [],
      "toc_visible": true,
      "include_colab_link": true
    },
    "accelerator": "GPU",
    "gpuClass": "standard",
    "widgets": {
      "application/vnd.jupyter.widget-state+json": {
        "a9499b3bb1654d56ad3069c54649f86c": {
          "model_module": "@jupyter-widgets/controls",
          "model_name": "HBoxModel",
          "model_module_version": "1.5.0",
          "state": {
            "_dom_classes": [],
            "_model_module": "@jupyter-widgets/controls",
            "_model_module_version": "1.5.0",
            "_model_name": "HBoxModel",
            "_view_count": null,
            "_view_module": "@jupyter-widgets/controls",
            "_view_module_version": "1.5.0",
            "_view_name": "HBoxView",
            "box_style": "",
            "children": [
              "IPY_MODEL_75f5fb3c45c34e2b92683f33696ee098",
              "IPY_MODEL_b625a6a2940f4884a476258621349bae",
              "IPY_MODEL_cb6578f908c44e80864b3fd76dc714cb"
            ],
            "layout": "IPY_MODEL_db51f2e6091d45d1be646effee5f0d4d"
          }
        },
        "75f5fb3c45c34e2b92683f33696ee098": {
          "model_module": "@jupyter-widgets/controls",
          "model_name": "HTMLModel",
          "model_module_version": "1.5.0",
          "state": {
            "_dom_classes": [],
            "_model_module": "@jupyter-widgets/controls",
            "_model_module_version": "1.5.0",
            "_model_name": "HTMLModel",
            "_view_count": null,
            "_view_module": "@jupyter-widgets/controls",
            "_view_module_version": "1.5.0",
            "_view_name": "HTMLView",
            "description": "",
            "description_tooltip": null,
            "layout": "IPY_MODEL_1e48653e5b3040eeb2ea3334c40fd031",
            "placeholder": "​",
            "style": "IPY_MODEL_9450f067a58a4aaa822da0811e8092d2",
            "value": "100%"
          }
        },
        "b625a6a2940f4884a476258621349bae": {
          "model_module": "@jupyter-widgets/controls",
          "model_name": "FloatProgressModel",
          "model_module_version": "1.5.0",
          "state": {
            "_dom_classes": [],
            "_model_module": "@jupyter-widgets/controls",
            "_model_module_version": "1.5.0",
            "_model_name": "FloatProgressModel",
            "_view_count": null,
            "_view_module": "@jupyter-widgets/controls",
            "_view_module_version": "1.5.0",
            "_view_name": "ProgressView",
            "bar_style": "success",
            "description": "",
            "description_tooltip": null,
            "layout": "IPY_MODEL_a2d900da5e4544b0b8c8a4493d51a873",
            "max": 102540417,
            "min": 0,
            "orientation": "horizontal",
            "style": "IPY_MODEL_ec42e80a9939477199c63592960110e5",
            "value": 102540417
          }
        },
        "cb6578f908c44e80864b3fd76dc714cb": {
          "model_module": "@jupyter-widgets/controls",
          "model_name": "HTMLModel",
          "model_module_version": "1.5.0",
          "state": {
            "_dom_classes": [],
            "_model_module": "@jupyter-widgets/controls",
            "_model_module_version": "1.5.0",
            "_model_name": "HTMLModel",
            "_view_count": null,
            "_view_module": "@jupyter-widgets/controls",
            "_view_module_version": "1.5.0",
            "_view_name": "HTMLView",
            "description": "",
            "description_tooltip": null,
            "layout": "IPY_MODEL_b2f9936b8ec04591b3eb51e830de61f8",
            "placeholder": "​",
            "style": "IPY_MODEL_31f97a2cc7f7431390ed29d03ec72380",
            "value": " 97.8M/97.8M [00:02&lt;00:00, 34.5MB/s]"
          }
        },
        "db51f2e6091d45d1be646effee5f0d4d": {
          "model_module": "@jupyter-widgets/base",
          "model_name": "LayoutModel",
          "model_module_version": "1.2.0",
          "state": {
            "_model_module": "@jupyter-widgets/base",
            "_model_module_version": "1.2.0",
            "_model_name": "LayoutModel",
            "_view_count": null,
            "_view_module": "@jupyter-widgets/base",
            "_view_module_version": "1.2.0",
            "_view_name": "LayoutView",
            "align_content": null,
            "align_items": null,
            "align_self": null,
            "border": null,
            "bottom": null,
            "display": null,
            "flex": null,
            "flex_flow": null,
            "grid_area": null,
            "grid_auto_columns": null,
            "grid_auto_flow": null,
            "grid_auto_rows": null,
            "grid_column": null,
            "grid_gap": null,
            "grid_row": null,
            "grid_template_areas": null,
            "grid_template_columns": null,
            "grid_template_rows": null,
            "height": null,
            "justify_content": null,
            "justify_items": null,
            "left": null,
            "margin": null,
            "max_height": null,
            "max_width": null,
            "min_height": null,
            "min_width": null,
            "object_fit": null,
            "object_position": null,
            "order": null,
            "overflow": null,
            "overflow_x": null,
            "overflow_y": null,
            "padding": null,
            "right": null,
            "top": null,
            "visibility": null,
            "width": null
          }
        },
        "1e48653e5b3040eeb2ea3334c40fd031": {
          "model_module": "@jupyter-widgets/base",
          "model_name": "LayoutModel",
          "model_module_version": "1.2.0",
          "state": {
            "_model_module": "@jupyter-widgets/base",
            "_model_module_version": "1.2.0",
            "_model_name": "LayoutModel",
            "_view_count": null,
            "_view_module": "@jupyter-widgets/base",
            "_view_module_version": "1.2.0",
            "_view_name": "LayoutView",
            "align_content": null,
            "align_items": null,
            "align_self": null,
            "border": null,
            "bottom": null,
            "display": null,
            "flex": null,
            "flex_flow": null,
            "grid_area": null,
            "grid_auto_columns": null,
            "grid_auto_flow": null,
            "grid_auto_rows": null,
            "grid_column": null,
            "grid_gap": null,
            "grid_row": null,
            "grid_template_areas": null,
            "grid_template_columns": null,
            "grid_template_rows": null,
            "height": null,
            "justify_content": null,
            "justify_items": null,
            "left": null,
            "margin": null,
            "max_height": null,
            "max_width": null,
            "min_height": null,
            "min_width": null,
            "object_fit": null,
            "object_position": null,
            "order": null,
            "overflow": null,
            "overflow_x": null,
            "overflow_y": null,
            "padding": null,
            "right": null,
            "top": null,
            "visibility": null,
            "width": null
          }
        },
        "9450f067a58a4aaa822da0811e8092d2": {
          "model_module": "@jupyter-widgets/controls",
          "model_name": "DescriptionStyleModel",
          "model_module_version": "1.5.0",
          "state": {
            "_model_module": "@jupyter-widgets/controls",
            "_model_module_version": "1.5.0",
            "_model_name": "DescriptionStyleModel",
            "_view_count": null,
            "_view_module": "@jupyter-widgets/base",
            "_view_module_version": "1.2.0",
            "_view_name": "StyleView",
            "description_width": ""
          }
        },
        "a2d900da5e4544b0b8c8a4493d51a873": {
          "model_module": "@jupyter-widgets/base",
          "model_name": "LayoutModel",
          "model_module_version": "1.2.0",
          "state": {
            "_model_module": "@jupyter-widgets/base",
            "_model_module_version": "1.2.0",
            "_model_name": "LayoutModel",
            "_view_count": null,
            "_view_module": "@jupyter-widgets/base",
            "_view_module_version": "1.2.0",
            "_view_name": "LayoutView",
            "align_content": null,
            "align_items": null,
            "align_self": null,
            "border": null,
            "bottom": null,
            "display": null,
            "flex": null,
            "flex_flow": null,
            "grid_area": null,
            "grid_auto_columns": null,
            "grid_auto_flow": null,
            "grid_auto_rows": null,
            "grid_column": null,
            "grid_gap": null,
            "grid_row": null,
            "grid_template_areas": null,
            "grid_template_columns": null,
            "grid_template_rows": null,
            "height": null,
            "justify_content": null,
            "justify_items": null,
            "left": null,
            "margin": null,
            "max_height": null,
            "max_width": null,
            "min_height": null,
            "min_width": null,
            "object_fit": null,
            "object_position": null,
            "order": null,
            "overflow": null,
            "overflow_x": null,
            "overflow_y": null,
            "padding": null,
            "right": null,
            "top": null,
            "visibility": null,
            "width": null
          }
        },
        "ec42e80a9939477199c63592960110e5": {
          "model_module": "@jupyter-widgets/controls",
          "model_name": "ProgressStyleModel",
          "model_module_version": "1.5.0",
          "state": {
            "_model_module": "@jupyter-widgets/controls",
            "_model_module_version": "1.5.0",
            "_model_name": "ProgressStyleModel",
            "_view_count": null,
            "_view_module": "@jupyter-widgets/base",
            "_view_module_version": "1.2.0",
            "_view_name": "StyleView",
            "bar_color": null,
            "description_width": ""
          }
        },
        "b2f9936b8ec04591b3eb51e830de61f8": {
          "model_module": "@jupyter-widgets/base",
          "model_name": "LayoutModel",
          "model_module_version": "1.2.0",
          "state": {
            "_model_module": "@jupyter-widgets/base",
            "_model_module_version": "1.2.0",
            "_model_name": "LayoutModel",
            "_view_count": null,
            "_view_module": "@jupyter-widgets/base",
            "_view_module_version": "1.2.0",
            "_view_name": "LayoutView",
            "align_content": null,
            "align_items": null,
            "align_self": null,
            "border": null,
            "bottom": null,
            "display": null,
            "flex": null,
            "flex_flow": null,
            "grid_area": null,
            "grid_auto_columns": null,
            "grid_auto_flow": null,
            "grid_auto_rows": null,
            "grid_column": null,
            "grid_gap": null,
            "grid_row": null,
            "grid_template_areas": null,
            "grid_template_columns": null,
            "grid_template_rows": null,
            "height": null,
            "justify_content": null,
            "justify_items": null,
            "left": null,
            "margin": null,
            "max_height": null,
            "max_width": null,
            "min_height": null,
            "min_width": null,
            "object_fit": null,
            "object_position": null,
            "order": null,
            "overflow": null,
            "overflow_x": null,
            "overflow_y": null,
            "padding": null,
            "right": null,
            "top": null,
            "visibility": null,
            "width": null
          }
        },
        "31f97a2cc7f7431390ed29d03ec72380": {
          "model_module": "@jupyter-widgets/controls",
          "model_name": "DescriptionStyleModel",
          "model_module_version": "1.5.0",
          "state": {
            "_model_module": "@jupyter-widgets/controls",
            "_model_module_version": "1.5.0",
            "_model_name": "DescriptionStyleModel",
            "_view_count": null,
            "_view_module": "@jupyter-widgets/base",
            "_view_module_version": "1.2.0",
            "_view_name": "StyleView",
            "description_width": ""
          }
        }
      }
    }
  },
  "nbformat": 4,
  "nbformat_minor": 0
}